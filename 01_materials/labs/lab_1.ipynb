{
 "cells": [
  {
   "cell_type": "markdown",
   "metadata": {},
   "source": [
    "# Training Neural Networks with Keras\n",
    "\n",
    "Welcome to the first practical session of the course! In this session, we will learn how to train neural networks with Keras. We will start with a simple example of a feedforward neural network for classification and then we will study the impact of the initialization of the weights on the convergence of the training algorithm.\n",
    "\n",
    "Keras is a high-level neural network API, built on top of TensorFlow 2.0. It provides a user-friendly interface to build, train and deploy deep learning models. Keras is designed to be modular, fast and easy to use.\n",
    "\n",
    "Throughout this course, we will focus on using Keras and TensorFlow for building and training neural networks. However, there are other popular deep learning frameworks such as PyTorch, MXNet, CNTK, etc. that you can also use to build and train neural networks.\n",
    "\n",
    "In order to use our code on Google Colab, we will need to ensure that any required packages are installed. We will use the following packages in this session:\n",
    "\n",
    "- `tensorflow`: an open-source library for numerical computation and large-scale machine learning.\n",
    "- `matplotlib`: a plotting library for the Python programming language and its numerical mathematics extension NumPy.\n",
    "- `numpy`: a library for scientific computing in Python.\n",
    "- `scikit-learn`: a machine learning library for the Python programming language.\n",
    "- `pandas`: a library providing high-performance, easy-to-use data structures and data analysis tools for the Python programming language.\n",
    "\n",
    "The following cell will check if the packages are installed, and if not, it will install them. Students familiar with how pip works might note that it already checks this before installing! The reason for this code (which will also appear in subsequent notebooks) is to speed up execution if you re-run the entire notebook - it will skip the installation step if the packages are already installed."
   ]
  },
  {
   "cell_type": "markdown",
   "metadata": {
    "collapsed": false
   },
   "source": [
    "With the packages installed, we can now get started on the practical session!\n",
    "\n",
    "Today, we will be working with the famous MNIST dataset. MNIST (Modified National Institute of Standards and Technology) is a database of low resolution images of handwritten digits. The history here is interesting - the dataset was originally created in the 1980s, when researchers from the aforementioned institute collected samples from American Census Bureau employees and high school students. The dataset was then modified in the 1990s (hence the M in MNIST), and has since become a popular benchmark for machine learning algorithms. \n",
    "\n",
    "The dataset contains images, each of which is a 28x28 grayscale image of a handwritten digit. The goal is to classify each image into one of the 10 possible classes (0-9).\n",
    "\n",
    "![MNIST](https://upload.wikimedia.org/wikipedia/commons/2/27/MnistExamples.png)\n",
    "\n",
    "The Scikit-Learn library provides a convenient function to download and load the MNIST dataset. The following cell will download the dataset. Then we will take a look at the shape of the data."
   ]
  },
  {
   "cell_type": "code",
   "execution_count": 59,
   "metadata": {},
   "outputs": [],
   "source": [
    "import matplotlib.pyplot as plt\n",
    "import numpy as np\n",
    "\n",
    "from sklearn.datasets import load_digits\n",
    "\n",
    "digits = load_digits()"
   ]
  },
  {
   "cell_type": "code",
   "execution_count": 60,
   "metadata": {},
   "outputs": [
    {
     "data": {
      "text/plain": [
       "(1797, 8, 8)"
      ]
     },
     "execution_count": 60,
     "metadata": {},
     "output_type": "execute_result"
    }
   ],
   "source": [
    "digits.images.shape"
   ]
  },
  {
   "cell_type": "markdown",
   "metadata": {
    "collapsed": false
   },
   "source": [
    "This means that we have 1797 images, each of which is a 8x8 image. For basic image processing, we will need to flatten the images into a 1D array. In this case, Scikit-Learn has already provided the data in this format too:"
   ]
  },
  {
   "cell_type": "code",
   "execution_count": 61,
   "metadata": {},
   "outputs": [
    {
     "data": {
      "text/plain": [
       "(1797, 64)"
      ]
     },
     "execution_count": 61,
     "metadata": {},
     "output_type": "execute_result"
    }
   ],
   "source": [
    "digits.data.shape"
   ]
  },
  {
   "cell_type": "markdown",
   "metadata": {
    "collapsed": false
   },
   "source": [
    "For each image, we also have the corresponding label (or target, or class) in `digits.target`:"
   ]
  },
  {
   "cell_type": "code",
   "execution_count": 62,
   "metadata": {},
   "outputs": [
    {
     "data": {
      "text/plain": [
       "(1797,)"
      ]
     },
     "execution_count": 62,
     "metadata": {},
     "output_type": "execute_result"
    }
   ],
   "source": [
    "digits.target.shape"
   ]
  },
  {
   "cell_type": "markdown",
   "metadata": {
    "collapsed": false
   },
   "source": [
    "We can take a look at some random images from the dataset. The following cell will select 9 random images and plot them in a 3x3 grid (meaning that you can rerun the cell to see different images)."
   ]
  },
  {
   "cell_type": "code",
   "execution_count": 63,
   "metadata": {},
   "outputs": [
    {
     "data": {
      "image/png": "[encoded data removed]",
      "text/plain": [
       "<Figure size 600x600 with 9 Axes>"
      ]
     },
     "metadata": {},
     "output_type": "display_data"
    }
   ],
   "source": [
    "# Selecting 9 random indices\n",
    "random_indices = np.random.choice(len(digits.images), 9, replace=False)\n",
    "\n",
    "# Creating a 3x3 grid plot\n",
    "fig, axes = plt.subplots(3, 3, figsize=(6, 6))\n",
    "\n",
    "for i, ax in enumerate(axes.flat):\n",
    "    ax.imshow(digits.images[random_indices[i]], cmap=plt.cm.gray_r, interpolation='nearest')\n",
    "    ax.set_title(f\"Label: {digits.target[random_indices[i]]}\")\n",
    "\n",
    "    # Removing axis labels\n",
    "    ax.set_xticks([])\n",
    "    ax.set_yticks([])\n",
    "\n",
    "plt.show()"
   ]
  },
  {
   "cell_type": "markdown",
   "metadata": {
    "collapsed": false
   },
   "source": [
    "As you can see, these images are very low resolution. This is because they were originally scanned from paper forms, and then scaled down to 8x8 pixels. This is a common problem in machine learning - the quality of the data is often a limiting factor in the performance of the model. In this case, the low resolution of the images makes it difficult to distinguish between some digits, even for humans. For example, the following images are all labelled as 9, but they look very different:"
   ]
  },
  {
   "cell_type": "code",
   "execution_count": 64,
   "metadata": {
    "collapsed": false
   },
   "outputs": [
    {
     "data": {
      "image/png": "[encoded data removed]",
      "text/plain": [
       "<Figure size 600x600 with 9 Axes>"
      ]
     },
     "metadata": {},
     "output_type": "display_data"
    }
   ],
   "source": [
    "# Selecting 9 random indices of images labelled as 9\n",
    "random_indices = np.random.choice(np.where(digits.target == 9)[0], 9, replace=False)\n",
    "\n",
    "# Creating a 3x3 grid plot\n",
    "fig, axes = plt.subplots(3, 3, figsize=(6, 6))\n",
    "\n",
    "for i, ax in enumerate(axes.flat):\n",
    "    ax.imshow(digits.images[random_indices[i]], cmap=plt.cm.gray_r, interpolation='nearest')\n",
    "    ax.set_title(f\"Label: {digits.target[random_indices[i]]}\")\n",
    "\n",
    "    # Removing axis labels\n",
    "    ax.set_xticks([])\n",
    "    ax.set_yticks([])\n",
    "    \n",
    "plt.show()"
   ]
  },
  {
   "cell_type": "markdown",
   "metadata": {
    "collapsed": false
   },
   "source": [
    "While we are plotting the samples as images, remember that our model is only going to see a 1D array of numbers. "
   ]
  },
  {
   "cell_type": "markdown",
   "metadata": {},
   "source": [
    "## Train / Test Split\n",
    "\n",
    "In order to understand how well our model performs on _new_ data, we need to split our dataset into a training set and a test set. The training set will be used to train the model, and the test set will be used to evaluate the performance of the model.\n",
    "\n",
    "Let's keep some held-out data to be able to measure the generalization performance of our model. "
   ]
  },
  {
   "cell_type": "code",
   "execution_count": 65,
   "metadata": {},
   "outputs": [],
   "source": [
    "from sklearn.model_selection import train_test_split\n",
    "\n",
    "\n",
    "X_train, X_test, y_train, y_test = train_test_split(\n",
    "    digits.data, \n",
    "    digits.target,\n",
    "    test_size=0.2, # 20% of the data is used for testing\n",
    "    random_state=42 # Providing a value here means getting the same \"random\" split every time\n",
    ")"
   ]
  },
  {
   "cell_type": "markdown",
   "metadata": {
    "collapsed": false
   },
   "source": [
    "Let's confirm that the data has been split correctly:"
   ]
  },
  {
   "cell_type": "code",
   "execution_count": 66,
   "metadata": {
    "collapsed": false
   },
   "outputs": [
    {
     "name": "stdout",
     "output_type": "stream",
     "text": [
      "X_train shape: (1437, 64)\n",
      "y_train shape: (1437,)\n",
      "X_test shape: (360, 64)\n",
      "y_test shape: (360,)\n"
     ]
    }
   ],
   "source": [
    "print(f'X_train shape: {X_train.shape}')\n",
    "print(f'y_train shape: {y_train.shape}')\n",
    "print(f'X_test shape: {X_test.shape}')\n",
    "print(f'y_test shape: {y_test.shape}')"
   ]
  },
  {
   "cell_type": "markdown",
   "metadata": {
    "collapsed": false
   },
   "source": [
    "This is what we expected to see. It's always good to check as you go, to make sure that you haven't made a mistake somewhere - this is something that working in a notebook like this makes it easy to do."
   ]
  },
  {
   "cell_type": "markdown",
   "metadata": {},
   "source": [
    "## Preprocessing of the Target Data\n",
    "\n",
    "The labels that we have are integers between 0 and 9. However, we want to train a neural network to classify the images into one of 10 classes. It can be a little counter-intuitive because we are dealing with numbers, but our classes are not ordinal.\n",
    "\n",
    "What do we mean by that? Let's imagine we were trying to predict the height of a building (separated into classes) from images. If a given building was actually 10m tall, and our model predicted 9m, we would consider that to be a better prediction than if it predicted 1m. This is because the classes are ordinal - there is meaning in the difference between the classes.\n",
    "\n",
    "In our case, even though we are dealing with numbers, the classes are not ordinal. If a given image is actually a 9, and our model predicts 8, we would consider that to be just as bad as if it predicted 1. This is because the classes are not ordered, and the difference between the classes is not meaningful.\n",
    "\n",
    "Because of this, we need to convert our labels from an integer value into a one-hot encoded vector. This means that each label will be represented as a vector of length 10, with a 1 in the position corresponding to the class, and 0s everywhere else. For example, the label 9 would be represented as `[0, 0, 0, 0, 0, 0, 0, 0, 0, 1]`. This is a common way of representing categorical data in machine learning. By doing this, we ensure that our model is taught the correct relationship between the classes."
   ]
  },
  {
   "cell_type": "code",
   "execution_count": 67,
   "metadata": {},
   "outputs": [
    {
     "name": "stdout",
     "output_type": "stream",
     "text": [
      "Before one-hot encoding: 6\n",
      "After one-hot encoding: [0. 0. 0. 0. 0. 0. 1. 0. 0. 0.]\n"
     ]
    }
   ],
   "source": [
    "from tensorflow.keras.utils import to_categorical\n",
    "\n",
    "print(f'Before one-hot encoding: {y_train[0]}')\n",
    "y_train = to_categorical(y_train, num_classes=10)\n",
    "y_test = to_categorical(y_test, num_classes=10)\n",
    "print(f'After one-hot encoding: {y_train[0]}')"
   ]
  },
  {
   "cell_type": "markdown",
   "metadata": {},
   "source": [
    "## Feed Forward Neural Networks with Keras\n",
    "\n",
    "Now that we have prepared our data, it's time to build a simple neural network! In this section, we will use the Keras API to build a simple feed forward neural network. We will then train the model on the MNIST dataset, and evaluate its performance on the test set.\n",
    "\n",
    "In most modern deep learning frameworks, the process of building a model can be broken down into a few steps:\n",
    "\n",
    "- Define the model architecture: this is where we define the layers of the model, and how they are connected to each other.\n",
    "- Compile the model: this is where we define the loss function, the optimizer, and the metrics that we want to use to evaluate the model.\n",
    "- Train the model: this is where we train the model on the training data.\n",
    "\n",
    "Let's start with defining the model architecture. There are two ways to do this in Keras - the Sequential API and the Functional API. The Sequential API is the simplest way to build a model, and is suitable for most use cases. The Functional API is more flexible, and allows you to build more complex models. We will start with the Sequential API, and then we will look at the Functional API later in the course.\n",
    "\n",
    "Our simple neural network will be \"fully-connected\". This means that each neuron in a given layer is connected to every neuron in the next layer. This is also known as a \"dense\" layer. We will use the `Dense` class from Keras to define our layers."
   ]
  },
  {
   "cell_type": "code",
   "execution_count": 68,
   "metadata": {
    "collapsed": false
   },
   "outputs": [
    {
     "name": "stdout",
     "output_type": "stream",
     "text": [
      "Model: \"sequential_16\"\n",
      "_________________________________________________________________\n",
      " Layer (type)                Output Shape              Param #   \n",
      "=================================================================\n",
      " dense_49 (Dense)            (None, 64)                4160      \n",
      "                                                                 \n",
      " dense_50 (Dense)            (None, 64)                4160      \n",
      "                                                                 \n",
      " dense_51 (Dense)            (None, 10)                650       \n",
      "                                                                 \n",
      "=================================================================\n",
      "Total params: 8,970\n",
      "Trainable params: 8,970\n",
      "Non-trainable params: 0\n",
      "_________________________________________________________________\n"
     ]
    }
   ],
   "source": [
    "from tensorflow.keras.models import Sequential\n",
    "from tensorflow.keras.layers import Dense\n",
    "\n",
    "model = Sequential()\n",
    "\n",
    "# Input layer\n",
    "model.add(Dense(64, activation='relu', input_shape=(64,))) # 64 neurons, ReLU activation, input shape of 64\n",
    "\n",
    "# Hidden layer\n",
    "model.add(Dense(64, activation='relu')) # 64 neurons, ReLU activation\n",
    "\n",
    "# Output layer\n",
    "model.add(Dense(10, activation='softmax')) # 10 neurons, softmax activation\n",
    "\n",
    "model.summary()"
   ]
  },
  {
   "cell_type": "markdown",
   "metadata": {
    "collapsed": false
   },
   "source": [
    "Congratulations! You have just built your first neural network with Keras. As we can confirm from the `model.summary()` output, our model has 3 layers. The first layer has 64 neurons, the second layer has 64 neurons, and the output layer has 10 neurons. The output layer uses the softmax activation function, which is commonly used for multi-class classification problems. The other layers use the ReLU activation function, which is commonly used for hidden layers in neural networks.\n",
    "\n",
    "Next, we need to compile the model. This is where we define the loss function, the optimizer, and the metrics that we want to use to evaluate the model. We will use the `compile` method of the model to do this."
   ]
  },
  {
   "cell_type": "code",
   "execution_count": 69,
   "metadata": {
    "collapsed": false
   },
   "outputs": [],
   "source": [
    "model.compile(\n",
    "    loss='categorical_crossentropy', # Loss function\n",
    "    optimizer='sgd', # Optimizer\n",
    "    metrics=['accuracy'] # Metrics to evaluate the model\n",
    ")"
   ]
  },
  {
   "cell_type": "markdown",
   "metadata": {
    "collapsed": false
   },
   "source": [
    "Because we are predicting which class a sample belongs to, we will use the `categorical_crossentropy` function. This loss function is commonly used for multi-class classification problems. \n",
    "\n",
    "For our optimizer, we are using the standard stochastic gradient descent (SGD) algorithm. This is a simple optimizer that works well for many problems. We will look at more advanced optimizers later in the course.\n",
    "\n",
    "Finally, we are using the `accuracy` metric to evaluate the model. This is a common metric for classification problems, and it is simply the fraction of samples that are correctly classified. This is an easier metric for us to understand, but it's not quite as useful for actually training the model (for example, it doesn't tell us how \"confident\" the model is in its predictions).\n",
    "\n",
    "Now that we have (a) defined the model architecture and (b) compiled the model, we are ready to train the model. We will use the `fit` method of the model to do this."
   ]
  },
  {
   "cell_type": "code",
   "execution_count": 70,
   "metadata": {
    "collapsed": false
   },
   "outputs": [
    {
     "name": "stdout",
     "output_type": "stream",
     "text": [
      "Epoch 1/5\n",
      "36/36 [==============================] - 1s 12ms/step - loss: 1.9496 - accuracy: 0.5544 - val_loss: 0.6934 - val_accuracy: 0.8021\n",
      "Epoch 2/5\n",
      "36/36 [==============================] - 0s 3ms/step - loss: 0.4365 - accuracy: 0.8573 - val_loss: 0.4209 - val_accuracy: 0.8576\n",
      "Epoch 3/5\n",
      "36/36 [==============================] - 0s 3ms/step - loss: 0.2689 - accuracy: 0.9217 - val_loss: 0.3108 - val_accuracy: 0.9028\n",
      "Epoch 4/5\n",
      "36/36 [==============================] - 0s 3ms/step - loss: 0.1816 - accuracy: 0.9478 - val_loss: 0.2708 - val_accuracy: 0.9167\n",
      "Epoch 5/5\n",
      "36/36 [==============================] - 0s 4ms/step - loss: 0.1422 - accuracy: 0.9617 - val_loss: 0.2801 - val_accuracy: 0.9097\n"
     ]
    },
    {
     "data": {
      "text/plain": [
       "<keras.callbacks.History at 0x260b9e64130>"
      ]
     },
     "execution_count": 70,
     "metadata": {},
     "output_type": "execute_result"
    }
   ],
   "source": [
    "model.fit(\n",
    "    X_train, # Training data\n",
    "    y_train, # Training labels\n",
    "    epochs=5, # Number of epochs\n",
    "    batch_size=32, # Number of samples per batch\n",
    "    validation_split=0.2 # Use 20% of the data for validation\n",
    ")"
   ]
  },
  {
   "cell_type": "markdown",
   "metadata": {
    "collapsed": false
   },
   "source": [
    "We have now trained our model! We can see that the model has been trained for 5 epochs, and the loss and accuracy have been printed for each epoch. We can also see that the model has been evaluated on the validation data at the end of each epoch. This is useful for us to see how the model is performing on data that it hasn't seen during training.\n",
    "\n",
    "Once the model is trained, it's time to evaluate the model on the test set. We can use the `evaluate` method of the model to do this. If you were building a model for a real-world application, this is the very last thing you would do, and the result here would be the figure you'd report in your paper or presentation."
   ]
  },
  {
   "cell_type": "code",
   "execution_count": 71,
   "metadata": {
    "collapsed": false
   },
   "outputs": [
    {
     "name": "stdout",
     "output_type": "stream",
     "text": [
      "12/12 [==============================] - 0s 2ms/step - loss: 0.2346 - accuracy: 0.9222\n",
      "Loss:     0.23\n",
      "Accuracy: 92.22%\n"
     ]
    }
   ],
   "source": [
    "loss, accuracy = model.evaluate(X_test, y_test)\n",
    "\n",
    "print(f'Loss:     {loss:.2f}')\n",
    "print(f'Accuracy: {accuracy*100:.2f}%')"
   ]
  },
  {
   "cell_type": "markdown",
   "metadata": {
    "collapsed": false
   },
   "source": [
    "Hopefully you have achieved an accuracy of around 95%. This is pretty good, but we can do better! In the next section, we will look at how we can improve the performance of our model by using a more advanced optimizer. But before we get there, let's do one other thing - let's look at the predictions that our model is making on the test set. When you are building a model, it's often useful to have a look at some of the examples your model is getting wrong. Sometimes this can reveal problems with the data, or it can give you ideas for how to improve your model."
   ]
  },
  {
   "cell_type": "code",
   "execution_count": 72,
   "metadata": {
    "collapsed": false
   },
   "outputs": [
    {
     "name": "stdout",
     "output_type": "stream",
     "text": [
      "12/12 [==============================] - 0s 2ms/step\n"
     ]
    },
    {
     "data": {
      "image/png": "[encoded data removed]",
      "text/plain": [
       "<Figure size 600x600 with 9 Axes>"
      ]
     },
     "metadata": {},
     "output_type": "display_data"
    }
   ],
   "source": [
    "# Get the predictions for the test data\n",
    "predictions = model.predict(X_test)\n",
    "\n",
    "# Get the index of the largest probability (i.e. the predicted class)\n",
    "predicted_classes = np.argmax(predictions, axis=1)\n",
    "true_classes = np.argmax(y_test, axis=1)\n",
    "misclassified_indices = np.where(predicted_classes != true_classes)[0]\n",
    "\n",
    "# Get the misclassified samples themselves\n",
    "misclassified_samples = X_test[misclassified_indices]\n",
    "misclassified_labels = np.argmax(y_test[misclassified_indices], axis=1)\n",
    "\n",
    "# Pick 9 random misclassified samples\n",
    "random_indices = np.random.choice(len(misclassified_indices), 9, replace=False)\n",
    "\n",
    "fig, axes = plt.subplots(3, 3, figsize=(6, 6))\n",
    "for i, ax in enumerate(axes.flat):\n",
    "    ax.imshow(misclassified_samples[random_indices[i]].reshape(8, 8), cmap=plt.cm.gray_r, interpolation='nearest')\n",
    "    ax.set_title(f\"Pred: {predicted_classes[misclassified_indices[random_indices[i]]]}, Real: {misclassified_labels[random_indices[i]]}\")\n",
    "\n",
    "    # Removing axis labels\n",
    "    ax.set_xticks([])\n",
    "    ax.set_yticks([])\n",
    "    \n",
    "plt.show()"
   ]
  },
  {
   "cell_type": "markdown",
   "metadata": {
    "collapsed": false
   },
   "source": [
    "What do you think? Would you have made the same mistakes as the model? Determining whether the mistakes are \"understandable\" is a rough way of seeing if you could improve the model further, or if this is the best you can do with the data you have."
   ]
  },
  {
   "cell_type": "markdown",
   "metadata": {},
   "source": [
    "### b) Exercises: Impact of the Optimizer\n",
    "\n",
    "In this section, you will play around with the optimizer and see how it affects the performance of the model. We will start with the standard SGD optimizer, and then we will look at more advanced optimizers.\n",
    "\n",
    "1. Try decreasing the learning rate of the SGD optimizer by a factor of 10, or 100. What do you observe?\n",
    "2. Try increasing the learning rate of the SGD optimizer. What happens?\n",
    "3. The SGD optimizer has a momentum parameter. In a nutshell, this parameter controls how much the gradient from the previous step affects the current step. Try enabling momentum in the SGD optimizer with a value of 0.9. What happens?\n",
    "  \n",
    "**Notes**: \n",
    "\n",
    "The keras API documentation is available at:\n",
    "\n",
    "https://www.tensorflow.org/api_docs/python/tf/keras\n",
    "\n",
    "It is also possible to learn more about the parameters of a class by using the question mark: type and evaluate:\n",
    "\n",
    "```python\n",
    "optimizers.SGD?\n",
    "```\n",
    "\n",
    "in a jupyter notebook cell.\n",
    "\n",
    "It is also possible to type the beginning of a function call / constructor and type \"shift-tab\" after the opening paren:\n",
    "\n",
    "```python\n",
    "optimizers.SGD(<shift-tab>\n",
    "```"
   ]
  },
  {
   "cell_type": "code",
   "execution_count": 73,
   "metadata": {},
   "outputs": [
    {
     "name": "stdout",
     "output_type": "stream",
     "text": [
      "Model: \"sequential_17\"\n",
      "_________________________________________________________________\n",
      " Layer (type)                Output Shape              Param #   \n",
      "=================================================================\n",
      " dense_52 (Dense)            (None, 64)                4160      \n",
      "                                                                 \n",
      " dense_53 (Dense)            (None, 64)                4160      \n",
      "                                                                 \n",
      " dense_54 (Dense)            (None, 10)                650       \n",
      "                                                                 \n",
      "=================================================================\n",
      "Total params: 8,970\n",
      "Trainable params: 8,970\n",
      "Non-trainable params: 0\n",
      "_________________________________________________________________\n",
      "Epoch 1/15\n",
      "45/45 [==============================] - 1s 1ms/step - loss: 2.8043 - accuracy: 0.2561\n",
      "Epoch 2/15\n",
      "45/45 [==============================] - 0s 1ms/step - loss: 1.5523 - accuracy: 0.5045\n",
      "Epoch 3/15\n",
      "45/45 [==============================] - 0s 2ms/step - loss: 1.1126 - accuracy: 0.6305\n",
      "Epoch 4/15\n",
      "45/45 [==============================] - 0s 2ms/step - loss: 0.8866 - accuracy: 0.6966\n",
      "Epoch 5/15\n",
      "45/45 [==============================] - 0s 2ms/step - loss: 0.7415 - accuracy: 0.7509\n",
      "Epoch 6/15\n",
      "45/45 [==============================] - 0s 2ms/step - loss: 0.6434 - accuracy: 0.7898\n",
      "Epoch 7/15\n",
      "45/45 [==============================] - 0s 1ms/step - loss: 0.5692 - accuracy: 0.8163\n",
      "Epoch 8/15\n",
      "45/45 [==============================] - 0s 1ms/step - loss: 0.5119 - accuracy: 0.8386\n",
      "Epoch 9/15\n",
      "45/45 [==============================] - 0s 1ms/step - loss: 0.4666 - accuracy: 0.8580\n",
      "Epoch 10/15\n",
      "45/45 [==============================] - 0s 1ms/step - loss: 0.4302 - accuracy: 0.8699\n",
      "Epoch 11/15\n",
      "45/45 [==============================] - 0s 1ms/step - loss: 0.3969 - accuracy: 0.8761\n",
      "Epoch 12/15\n",
      "45/45 [==============================] - 0s 1ms/step - loss: 0.3698 - accuracy: 0.8928\n",
      "Epoch 13/15\n",
      "45/45 [==============================] - 0s 1ms/step - loss: 0.3491 - accuracy: 0.9033\n",
      "Epoch 14/15\n",
      "45/45 [==============================] - 0s 1ms/step - loss: 0.3260 - accuracy: 0.9040\n",
      "Epoch 15/15\n",
      "45/45 [==============================] - 0s 1ms/step - loss: 0.3082 - accuracy: 0.9144\n"
     ]
    }
   ],
   "source": [
    "# Your code here - copy the relevant parts from the previous section and add more cells as needed\n",
    "\n",
    "#Define the model \n",
    "from tensorflow.keras import optimizers\n",
    "from tensorflow.keras.models import Sequential\n",
    "from tensorflow.keras.layers import Dense\n",
    "\n",
    "model = Sequential()\n",
    "\n",
    "# Input layer\n",
    "model.add(Dense(64, activation='relu', input_shape=(64,))) # 64 neurons, ReLU activation, input shape of 64\n",
    "\n",
    "# Hidden layer\n",
    "model.add(Dense(64, activation='relu')) # 64 neurons, ReLU activation\n",
    "\n",
    "# Output layer\n",
    "model.add(Dense(10, activation='softmax')) # 10 neurons, softmax activation\n",
    "\n",
    "model.summary()\n",
    "\n",
    "# Decrease the learning rate by a factor of 100 \n",
    "\n",
    "model.compile(\n",
    "    loss='categorical_crossentropy', # Loss function\n",
    "    optimizer=optimizers.SGD(learning_rate= 0.001),\n",
    "    metrics=['accuracy'] # Metrics to evaluate the model\n",
    ")\n",
    "\n",
    "decreased_learning_sgd = model.fit(X_train, y_train, epochs=15, batch_size=32)"
   ]
  },
  {
   "cell_type": "code",
   "execution_count": 74,
   "metadata": {},
   "outputs": [
    {
     "name": "stdout",
     "output_type": "stream",
     "text": [
      "Model: \"sequential_18\"\n",
      "_________________________________________________________________\n",
      " Layer (type)                Output Shape              Param #   \n",
      "=================================================================\n",
      " dense_55 (Dense)            (None, 64)                4160      \n",
      "                                                                 \n",
      " dense_56 (Dense)            (None, 64)                4160      \n",
      "                                                                 \n",
      " dense_57 (Dense)            (None, 10)                650       \n",
      "                                                                 \n",
      "=================================================================\n",
      "Total params: 8,970\n",
      "Trainable params: 8,970\n",
      "Non-trainable params: 0\n",
      "_________________________________________________________________\n",
      "Epoch 1/15\n",
      "45/45 [==============================] - 1s 2ms/step - loss: 441028468280340913324032.0000 - accuracy: 0.1065\n",
      "Epoch 2/15\n",
      "45/45 [==============================] - 0s 2ms/step - loss: 42.7356 - accuracy: 0.0912\n",
      "Epoch 3/15\n",
      "45/45 [==============================] - 0s 2ms/step - loss: 44.0996 - accuracy: 0.0926\n",
      "Epoch 4/15\n",
      "45/45 [==============================] - 0s 2ms/step - loss: 42.3870 - accuracy: 0.0960\n",
      "Epoch 5/15\n",
      "45/45 [==============================] - 0s 2ms/step - loss: 41.4211 - accuracy: 0.1009\n",
      "Epoch 6/15\n",
      "45/45 [==============================] - 0s 2ms/step - loss: 43.7607 - accuracy: 0.0926\n",
      "Epoch 7/15\n",
      "45/45 [==============================] - 0s 2ms/step - loss: 42.4101 - accuracy: 0.1120\n",
      "Epoch 8/15\n",
      "45/45 [==============================] - 0s 2ms/step - loss: 41.9351 - accuracy: 0.1093\n",
      "Epoch 9/15\n",
      "45/45 [==============================] - 0s 1ms/step - loss: 44.1031 - accuracy: 0.0981\n",
      "Epoch 10/15\n",
      "45/45 [==============================] - 0s 1ms/step - loss: 43.2202 - accuracy: 0.0898\n",
      "Epoch 11/15\n",
      "45/45 [==============================] - 0s 1ms/step - loss: 41.5998 - accuracy: 0.1127\n",
      "Epoch 12/15\n",
      "45/45 [==============================] - 0s 2ms/step - loss: 43.0018 - accuracy: 0.0870\n",
      "Epoch 13/15\n",
      "45/45 [==============================] - 0s 2ms/step - loss: 41.4909 - accuracy: 0.0953\n",
      "Epoch 14/15\n",
      "45/45 [==============================] - 0s 2ms/step - loss: 42.4679 - accuracy: 0.0946\n",
      "Epoch 15/15\n",
      "45/45 [==============================] - 0s 2ms/step - loss: 44.2480 - accuracy: 0.0953\n"
     ]
    }
   ],
   "source": [
    "# Question 2: Increasing the learning rate \n",
    "\n",
    "# Your code here - copy the relevant parts from the previous section and add more cells as needed\n",
    "\n",
    "#Define the model \n",
    "from tensorflow.keras import optimizers\n",
    "from tensorflow.keras.models import Sequential\n",
    "from tensorflow.keras.layers import Dense\n",
    "\n",
    "model = Sequential()\n",
    "\n",
    "# Input layer\n",
    "model.add(Dense(64, activation='relu', input_shape=(64,))) # 64 neurons, ReLU activation, input shape of 64\n",
    "\n",
    "# Hidden layer\n",
    "model.add(Dense(64, activation='relu')) # 64 neurons, ReLU activation\n",
    "\n",
    "# Output layer\n",
    "model.add(Dense(10, activation='softmax')) # 10 neurons, softmax activation\n",
    "\n",
    "model.summary()\n",
    "\n",
    "# Decrease the learning rate by a factor of 100 \n",
    "\n",
    "model.compile(\n",
    "    loss='categorical_crossentropy', # Loss function\n",
    "    optimizer=optimizers.SGD(learning_rate= 100.0),\n",
    "    metrics=['accuracy'] # Metrics to evaluate the model\n",
    ")\n",
    "\n",
    "increased_learning_sgd = model.fit(X_train, y_train, epochs=15, batch_size=32)"
   ]
  },
  {
   "cell_type": "code",
   "execution_count": 75,
   "metadata": {},
   "outputs": [
    {
     "name": "stdout",
     "output_type": "stream",
     "text": [
      "Model: \"sequential_19\"\n",
      "_________________________________________________________________\n",
      " Layer (type)                Output Shape              Param #   \n",
      "=================================================================\n",
      " dense_58 (Dense)            (None, 64)                4160      \n",
      "                                                                 \n",
      " dense_59 (Dense)            (None, 64)                4160      \n",
      "                                                                 \n",
      " dense_60 (Dense)            (None, 10)                650       \n",
      "                                                                 \n",
      "=================================================================\n",
      "Total params: 8,970\n",
      "Trainable params: 8,970\n",
      "Non-trainable params: 0\n",
      "_________________________________________________________________\n",
      "Epoch 1/15\n",
      "45/45 [==============================] - 1s 2ms/step - loss: 1.2827 - accuracy: 0.6695\n",
      "Epoch 2/15\n",
      "45/45 [==============================] - 0s 2ms/step - loss: 0.2390 - accuracy: 0.9200\n",
      "Epoch 3/15\n",
      "45/45 [==============================] - 0s 1ms/step - loss: 0.1085 - accuracy: 0.9638\n",
      "Epoch 4/15\n",
      "45/45 [==============================] - 0s 2ms/step - loss: 0.0745 - accuracy: 0.9756\n",
      "Epoch 5/15\n",
      "45/45 [==============================] - 0s 2ms/step - loss: 0.0746 - accuracy: 0.9756\n",
      "Epoch 6/15\n",
      "45/45 [==============================] - 0s 2ms/step - loss: 0.0766 - accuracy: 0.9749\n",
      "Epoch 7/15\n",
      "45/45 [==============================] - 0s 2ms/step - loss: 0.0392 - accuracy: 0.9861\n",
      "Epoch 8/15\n",
      "45/45 [==============================] - 0s 2ms/step - loss: 0.0280 - accuracy: 0.9923\n",
      "Epoch 9/15\n",
      "45/45 [==============================] - 0s 1ms/step - loss: 0.0270 - accuracy: 0.9916\n",
      "Epoch 10/15\n",
      "45/45 [==============================] - 0s 1ms/step - loss: 0.0192 - accuracy: 0.9937\n",
      "Epoch 11/15\n",
      "45/45 [==============================] - 0s 2ms/step - loss: 0.0095 - accuracy: 0.9979\n",
      "Epoch 12/15\n",
      "45/45 [==============================] - 0s 2ms/step - loss: 0.0058 - accuracy: 0.9993\n",
      "Epoch 13/15\n",
      "45/45 [==============================] - 0s 2ms/step - loss: 0.0048 - accuracy: 0.9993\n",
      "Epoch 14/15\n",
      "45/45 [==============================] - 0s 2ms/step - loss: 0.0030 - accuracy: 1.0000\n",
      "Epoch 15/15\n",
      "45/45 [==============================] - 0s 2ms/step - loss: 0.0020 - accuracy: 1.0000\n"
     ]
    }
   ],
   "source": [
    "#Question 3: Adding momentum \n",
    "\n",
    "#Define the model \n",
    "from tensorflow.keras import optimizers\n",
    "from tensorflow.keras.models import Sequential\n",
    "from tensorflow.keras.layers import Dense\n",
    "\n",
    "model = Sequential()\n",
    "\n",
    "# Input layer\n",
    "model.add(Dense(64, activation='relu', input_shape=(64,))) # 64 neurons, ReLU activation, input shape of 64\n",
    "\n",
    "# Hidden layer\n",
    "model.add(Dense(64, activation='relu')) # 64 neurons, ReLU activation\n",
    "\n",
    "# Output layer\n",
    "model.add(Dense(10, activation='softmax')) # 10 neurons, softmax activation\n",
    "\n",
    "model.summary()\n",
    "\n",
    "# Increase the learning rate by switching from sgd to Adam \n",
    "\n",
    "model.compile(\n",
    "    loss='categorical_crossentropy', # Loss function\n",
    "    optimizer=optimizers.SGD(learning_rate= 0.01, momentum=0.9),\n",
    "    metrics=['accuracy'] # Metrics to evaluate the model\n",
    ")\n",
    "\n",
    "history = model.fit(X_train, y_train, epochs=15, batch_size=32)"
   ]
  },
  {
   "cell_type": "markdown",
   "metadata": {},
   "source": [
    "Next, let's try a more advanced optimizer. Adam is likely the most popular optimizer for deep learning. It is an adaptive learning rate optimizer, which means that it automatically adjusts the learning rate based on how the training is going. This can be very useful, as it means that we don't need to manually tune the learning rate. Let's see how it performs on our model.\n",
    "\n",
    "\n",
    "1. Replace the SGD optimizer by the Adam optimizer from keras and run it\n",
    "  with the default parameters.\n",
    "\n",
    "2. Add another hidden layer with ReLU activation and 64 neurons. Does it improve the model performance?\n"
   ]
  },
  {
   "cell_type": "code",
   "execution_count": 76,
   "metadata": {},
   "outputs": [
    {
     "name": "stdout",
     "output_type": "stream",
     "text": [
      "Model: \"sequential_20\"\n",
      "_________________________________________________________________\n",
      " Layer (type)                Output Shape              Param #   \n",
      "=================================================================\n",
      " dense_61 (Dense)            (None, 64)                4160      \n",
      "                                                                 \n",
      " dense_62 (Dense)            (None, 64)                4160      \n",
      "                                                                 \n",
      " dense_63 (Dense)            (None, 10)                650       \n",
      "                                                                 \n",
      "=================================================================\n",
      "Total params: 8,970\n",
      "Trainable params: 8,970\n",
      "Non-trainable params: 0\n",
      "_________________________________________________________________\n",
      "Epoch 1/15\n",
      "45/45 [==============================] - 1s 2ms/step - loss: 1.8246 - accuracy: 0.4697\n",
      "Epoch 2/15\n",
      "45/45 [==============================] - 0s 2ms/step - loss: 0.4873 - accuracy: 0.8608\n",
      "Epoch 3/15\n",
      "45/45 [==============================] - 0s 2ms/step - loss: 0.2514 - accuracy: 0.9332\n",
      "Epoch 4/15\n",
      "45/45 [==============================] - 0s 1ms/step - loss: 0.1547 - accuracy: 0.9624\n",
      "Epoch 5/15\n",
      "45/45 [==============================] - 0s 1ms/step - loss: 0.1100 - accuracy: 0.9694\n",
      "Epoch 6/15\n",
      "45/45 [==============================] - 0s 1ms/step - loss: 0.0713 - accuracy: 0.9833\n",
      "Epoch 7/15\n",
      "45/45 [==============================] - 0s 1ms/step - loss: 0.0536 - accuracy: 0.9875\n",
      "Epoch 8/15\n",
      "45/45 [==============================] - 0s 2ms/step - loss: 0.0419 - accuracy: 0.9923\n",
      "Epoch 9/15\n",
      "45/45 [==============================] - 0s 2ms/step - loss: 0.0292 - accuracy: 0.9965\n",
      "Epoch 10/15\n",
      "45/45 [==============================] - 0s 2ms/step - loss: 0.0264 - accuracy: 0.9958\n",
      "Epoch 11/15\n",
      "45/45 [==============================] - 0s 1ms/step - loss: 0.0187 - accuracy: 0.9979\n",
      "Epoch 12/15\n",
      "45/45 [==============================] - 0s 1ms/step - loss: 0.0166 - accuracy: 0.9993\n",
      "Epoch 13/15\n",
      "45/45 [==============================] - 0s 1ms/step - loss: 0.0128 - accuracy: 0.9993\n",
      "Epoch 14/15\n",
      "45/45 [==============================] - 0s 2ms/step - loss: 0.0105 - accuracy: 0.9993\n",
      "Epoch 15/15\n",
      "45/45 [==============================] - 0s 2ms/step - loss: 0.0094 - accuracy: 0.9993\n"
     ]
    }
   ],
   "source": [
    "# Your code here\n",
    "\n",
    "#Question 1: Replacing the SGD optimizer with Adam\n",
    "\n",
    "#Define the model \n",
    "from tensorflow.keras import optimizers\n",
    "from tensorflow.keras.models import Sequential\n",
    "from tensorflow.keras.layers import Dense\n",
    "\n",
    "model = Sequential()\n",
    "\n",
    "# Input layer\n",
    "model.add(Dense(64, activation='relu', input_shape=(64,))) # 64 neurons, ReLU activation, input shape of 64\n",
    "\n",
    "# Hidden layer\n",
    "model.add(Dense(64, activation='relu')) # 64 neurons, ReLU activation\n",
    "\n",
    "# Output layer\n",
    "model.add(Dense(10, activation='softmax')) # 10 neurons, softmax activation\n",
    "\n",
    "model.summary()\n",
    "\n",
    "# Increase the learning rate by switching from sgd to Adam \n",
    "\n",
    "model.compile(\n",
    "    loss='categorical_crossentropy', # Loss function\n",
    "    optimizer='adam', # Optimizer = Adam \n",
    "    metrics=['accuracy'] # Metrics to evaluate the model\n",
    ")\n",
    "\n",
    "history_adam = model.fit(X_train, y_train, epochs=15, batch_size=32)\n",
    "\n"
   ]
  },
  {
   "cell_type": "code",
   "execution_count": 77,
   "metadata": {},
   "outputs": [
    {
     "name": "stdout",
     "output_type": "stream",
     "text": [
      "Model: \"sequential_21\"\n",
      "_________________________________________________________________\n",
      " Layer (type)                Output Shape              Param #   \n",
      "=================================================================\n",
      " dense_64 (Dense)            (None, 64)                4160      \n",
      "                                                                 \n",
      " dense_65 (Dense)            (None, 64)                4160      \n",
      "                                                                 \n",
      " dense_66 (Dense)            (None, 64)                4160      \n",
      "                                                                 \n",
      " dense_67 (Dense)            (None, 10)                650       \n",
      "                                                                 \n",
      "=================================================================\n",
      "Total params: 13,130\n",
      "Trainable params: 13,130\n",
      "Non-trainable params: 0\n",
      "_________________________________________________________________\n",
      "Epoch 1/15\n",
      "45/45 [==============================] - 1s 2ms/step - loss: 1.3562 - accuracy: 0.5950\n",
      "Epoch 2/15\n",
      "45/45 [==============================] - 0s 2ms/step - loss: 0.3940 - accuracy: 0.8887\n",
      "Epoch 3/15\n",
      "45/45 [==============================] - 0s 2ms/step - loss: 0.2003 - accuracy: 0.9422\n",
      "Epoch 4/15\n",
      "45/45 [==============================] - 0s 3ms/step - loss: 0.1245 - accuracy: 0.9659\n",
      "Epoch 5/15\n",
      "45/45 [==============================] - 0s 2ms/step - loss: 0.0859 - accuracy: 0.9763\n",
      "Epoch 6/15\n",
      "45/45 [==============================] - 0s 2ms/step - loss: 0.0554 - accuracy: 0.9889\n",
      "Epoch 7/15\n",
      "45/45 [==============================] - 0s 2ms/step - loss: 0.0417 - accuracy: 0.9930\n",
      "Epoch 8/15\n",
      "45/45 [==============================] - 0s 2ms/step - loss: 0.0304 - accuracy: 0.9944\n",
      "Epoch 9/15\n",
      "45/45 [==============================] - 0s 2ms/step - loss: 0.0237 - accuracy: 0.9965\n",
      "Epoch 10/15\n",
      "45/45 [==============================] - 0s 2ms/step - loss: 0.0169 - accuracy: 0.9986\n",
      "Epoch 11/15\n",
      "45/45 [==============================] - 0s 2ms/step - loss: 0.0133 - accuracy: 0.9986\n",
      "Epoch 12/15\n",
      "45/45 [==============================] - 0s 2ms/step - loss: 0.0103 - accuracy: 1.0000\n",
      "Epoch 13/15\n",
      "45/45 [==============================] - 0s 2ms/step - loss: 0.0119 - accuracy: 0.9986\n",
      "Epoch 14/15\n",
      "45/45 [==============================] - 0s 2ms/step - loss: 0.0066 - accuracy: 1.0000\n",
      "Epoch 15/15\n",
      "45/45 [==============================] - 0s 2ms/step - loss: 0.0047 - accuracy: 1.0000\n"
     ]
    }
   ],
   "source": [
    "# Your code here\n",
    "\n",
    "#Question 2: Adding another Relu layer \n",
    "\n",
    "#Define the model \n",
    "from tensorflow.keras import optimizers\n",
    "from tensorflow.keras.models import Sequential\n",
    "from tensorflow.keras.layers import Dense\n",
    "\n",
    "model = Sequential()\n",
    "\n",
    "# Input layer\n",
    "model.add(Dense(64, activation='relu', input_shape=(64,))) # 64 neurons, ReLU activation, input shape of 64\n",
    "\n",
    "# Hidden layer\n",
    "model.add(Dense(64, activation='relu')) # 64 neurons, ReLU activation\n",
    "\n",
    "# Hidden layer\n",
    "model.add(Dense(64, activation='relu')) # 64 neurons, ReLU activation\n",
    "\n",
    "# Output layer\n",
    "model.add(Dense(10, activation='softmax')) # 10 neurons, softmax activation\n",
    "\n",
    "model.summary()\n",
    "\n",
    "# Increase the learning rate by switching from sgd to Adam \n",
    "\n",
    "model.compile(\n",
    "    loss='categorical_crossentropy', # Loss function\n",
    "    optimizer='adam', # Optimizer = Adam \n",
    "    metrics=['accuracy'] # Metrics to evaluate the model\n",
    ")\n",
    "\n",
    "history_adam_relu = model.fit(X_train, y_train, epochs=15, batch_size=32)"
   ]
  },
  {
   "cell_type": "markdown",
   "metadata": {},
   "source": [
    "### Exercises: Forward Pass and Generalization\n",
    "\n",
    "Let's look in more detail at how the model makes predictions on the test set. We will walk through each step of making predictions, examining exactly what's going on.\n",
    "\n",
    "To start, we will apply our model to the test set, and look at what we get as output:"
   ]
  },
  {
   "cell_type": "code",
   "execution_count": 78,
   "metadata": {},
   "outputs": [
    {
     "data": {
      "text/plain": [
       "<tf.Tensor: shape=(5, 10), dtype=float32, numpy=\n",
       "array([[2.67837464e-07, 2.09658128e-06, 1.00656528e-07, 1.34014417e-08,\n",
       "        3.95249890e-06, 2.98986856e-06, 9.99642849e-01, 1.23367769e-07,\n",
       "        3.46664339e-04, 9.49130765e-07],\n",
       "       [1.66793086e-07, 9.68054304e-13, 1.22467114e-09, 2.53685670e-07,\n",
       "        1.40106295e-07, 1.12962094e-03, 8.00793806e-11, 4.74512478e-11,\n",
       "        3.77283391e-06, 9.98865962e-01],\n",
       "       [6.98215041e-10, 3.73895859e-10, 4.70180055e-08, 9.99991238e-01,\n",
       "        4.69279823e-11, 1.80643710e-07, 7.40895123e-10, 1.02472534e-07,\n",
       "        1.90608603e-07, 8.11205337e-06],\n",
       "       [6.28102207e-05, 3.51932101e-07, 2.15399399e-04, 5.83204892e-05,\n",
       "        5.88791117e-05, 7.22136057e-04, 1.54865040e-06, 9.88349080e-01,\n",
       "        2.84665675e-05, 1.05030462e-02],\n",
       "       [2.64146327e-09, 7.52242204e-06, 9.92766261e-01, 5.68165397e-03,\n",
       "        1.77087112e-11, 8.94143814e-05, 3.24548682e-06, 4.76036257e-06,\n",
       "        6.57126191e-04, 7.90010148e-04]], dtype=float32)>"
      ]
     },
     "execution_count": 78,
     "metadata": {},
     "output_type": "execute_result"
    }
   ],
   "source": [
    "predictions_tf = model(X_test)\n",
    "predictions_tf[:5]"
   ]
  },
  {
   "cell_type": "code",
   "execution_count": 79,
   "metadata": {},
   "outputs": [
    {
     "data": {
      "text/plain": [
       "(tensorflow.python.framework.ops.EagerTensor, TensorShape([360, 10]))"
      ]
     },
     "execution_count": 79,
     "metadata": {},
     "output_type": "execute_result"
    }
   ],
   "source": [
    "type(predictions_tf), predictions_tf.shape"
   ]
  },
  {
   "cell_type": "markdown",
   "metadata": {},
   "source": [
    "The raw output of the model is a tensor of shape `(360, 10)`. This means that we have 360 samples, and for each sample we have 10 values. Each of these values represents the probability that the sample belongs to a given class. This means that we have 10 probabilities for each sample, and the sum of these probabilities is 1. We can confirm this by summing the probabilities for each sample:"
   ]
  },
  {
   "cell_type": "code",
   "execution_count": 80,
   "metadata": {},
   "outputs": [
    {
     "data": {
      "text/plain": [
       "<tf.Tensor: shape=(5,), dtype=float32, numpy=\n",
       "array([1.        , 0.9999999 , 0.9999999 , 0.99999994, 1.        ],\n",
       "      dtype=float32)>"
      ]
     },
     "execution_count": 80,
     "metadata": {},
     "output_type": "execute_result"
    }
   ],
   "source": [
    "import tensorflow as tf\n",
    "\n",
    "tf.reduce_sum(predictions_tf, axis=1)[:5]"
   ]
  },
  {
   "cell_type": "markdown",
   "metadata": {
    "collapsed": false
   },
   "source": [
    "...okay, there might be a small rounding error here and there. This is to do with how floating point numbers are represented in computers, and it's not something we need to worry about for now."
   ]
  },
  {
   "cell_type": "markdown",
   "metadata": {},
   "source": [
    "We can also extract the label with the highest probability using the tensorflow API:"
   ]
  },
  {
   "cell_type": "code",
   "execution_count": 81,
   "metadata": {},
   "outputs": [
    {
     "data": {
      "text/plain": [
       "<tf.Tensor: shape=(5,), dtype=int64, numpy=array([6, 9, 3, 7, 2], dtype=int64)>"
      ]
     },
     "execution_count": 81,
     "metadata": {},
     "output_type": "execute_result"
    }
   ],
   "source": [
    "predicted_labels_tf = tf.argmax(predictions_tf, axis=1)\n",
    "predicted_labels_tf[:5]"
   ]
  },
  {
   "cell_type": "markdown",
   "metadata": {
    "collapsed": false
   },
   "source": [
    "One helpful aspect of this approach is that we don't just get the prediction, but also a sense of how confident the model is in its prediction. To see this in practice, let's take a look at some of the predictions the model is highly confident about (i.e. a lot of the probability mass is on one class):"
   ]
  },
  {
   "cell_type": "code",
   "execution_count": 82,
   "metadata": {
    "collapsed": false
   },
   "outputs": [
    {
     "data": {
      "image/png": "[encoded data removed]",
      "text/plain": [
       "<Figure size 600x600 with 9 Axes>"
      ]
     },
     "metadata": {},
     "output_type": "display_data"
    }
   ],
   "source": [
    "# Get the values corresponding to the predicted labels for each sample\n",
    "predicted_values_tf = tf.reduce_max(predictions_tf, axis=1)\n",
    "\n",
    "# Get the indices of the samples with the highest predicted values\n",
    "most_confident_indices_tf = tf.argsort(predicted_values_tf, direction='DESCENDING').numpy()[:9]\n",
    "\n",
    "# Get the 9 most confident samples\n",
    "most_confident_samples_tf = X_test[most_confident_indices_tf]\n",
    "\n",
    "# Get the true labels for the 9 most confident samples\n",
    "most_confident_labels_tf = np.argmax(y_test[most_confident_indices_tf], axis=1)\n",
    "\n",
    "# Plot the 9 most confident samples\n",
    "fig, axes = plt.subplots(3, 3, figsize=(6, 6))\n",
    "\n",
    "for i, ax in enumerate(axes.flat):\n",
    "    ax.imshow(most_confident_samples_tf[i].reshape(8, 8), cmap=plt.cm.gray_r, interpolation='nearest')\n",
    "    ax.set_title(f\"{most_confident_labels_tf[i]}\")\n",
    "\n",
    "    # Removing axis labels\n",
    "    ax.set_xticks([])\n",
    "    ax.set_yticks([])\n",
    "    \n",
    "plt.show()"
   ]
  },
  {
   "cell_type": "markdown",
   "metadata": {},
   "source": [
    "## Impact of Initialization\n",
    "\n",
    "Let's study the impact of a bad initialization when training\n",
    "a deep feed forward network.\n",
    "\n",
    "By default, Keras dense layers use the \"Glorot Uniform\" initialization\n",
    "strategy to initialize the weight matrices:\n",
    "\n",
    "- each weight coefficient is randomly sampled from [-scale, scale]\n",
    "- scale is proportional to $\\frac{1}{\\sqrt{n_{in} + n_{out}}}$\n",
    "\n",
    "This strategy is known to work well to initialize deep neural networks\n",
    "with \"tanh\" or \"relu\" activation functions and then trained with\n",
    "standard SGD.\n",
    "\n",
    "To assess the impact of initialization let us plug an alternative init\n",
    "scheme into a 2 hidden layers networks with \"tanh\" activations.\n",
    "For the sake of the example let's use normal distributed weights\n",
    "with a manually adjustable scale (standard deviation) and see the\n",
    "impact the scale value:"
   ]
  },
  {
   "cell_type": "code",
   "execution_count": 83,
   "metadata": {},
   "outputs": [],
   "source": [
    "from tensorflow.keras import initializers\n",
    "from tensorflow.keras import optimizers\n",
    "from tensorflow.keras.models import Sequential\n",
    "\n",
    "input_dim = 64\n",
    "hidden_dim = 64\n",
    "output_dim = 10\n",
    "\n",
    "normal_init = initializers.TruncatedNormal(stddev=0.01, seed=42)\n",
    "\n",
    "model = Sequential()\n",
    "model.add(Dense(hidden_dim, input_dim=input_dim, activation=\"tanh\",\n",
    "                kernel_initializer=normal_init))\n",
    "model.add(Dense(hidden_dim, activation=\"tanh\",\n",
    "                kernel_initializer=normal_init))\n",
    "model.add(Dense(output_dim, activation=\"softmax\",\n",
    "                kernel_initializer=normal_init))\n",
    "\n",
    "model.compile(optimizer=optimizers.SGD(learning_rate=0.1),\n",
    "              loss='categorical_crossentropy', metrics=['accuracy'])"
   ]
  },
  {
   "cell_type": "code",
   "execution_count": 84,
   "metadata": {},
   "outputs": [
    {
     "data": {
      "text/plain": [
       "[<keras.layers.core.dense.Dense at 0x260acac3820>,\n",
       " <keras.layers.core.dense.Dense at 0x260b9eb32b0>,\n",
       " <keras.layers.core.dense.Dense at 0x260c09573d0>]"
      ]
     },
     "execution_count": 84,
     "metadata": {},
     "output_type": "execute_result"
    }
   ],
   "source": [
    "model.layers"
   ]
  },
  {
   "cell_type": "markdown",
   "metadata": {},
   "source": [
    "Let's have a look at the parameters of the first layer after initialization but before any training has happened:"
   ]
  },
  {
   "cell_type": "code",
   "execution_count": 85,
   "metadata": {},
   "outputs": [
    {
     "data": {
      "text/plain": [
       "[<tf.Variable 'dense_68/kernel:0' shape=(64, 64) dtype=float32, numpy=\n",
       " array([[ 0.00015817, -0.01590087,  0.00103594, ...,  0.00962818,\n",
       "          0.00624957,  0.00994726],\n",
       "        [ 0.0081879 ,  0.00756818, -0.00668142, ...,  0.01084459,\n",
       "         -0.00317478, -0.00549116],\n",
       "        [-0.00086618, -0.00287623,  0.00391693, ...,  0.00064558,\n",
       "         -0.00420471,  0.00174566],\n",
       "        ...,\n",
       "        [-0.0029006 , -0.0091218 ,  0.00804327, ..., -0.01407086,\n",
       "          0.00952832, -0.01348555],\n",
       "        [ 0.00375078,  0.00967842,  0.00098119, ..., -0.00413454,\n",
       "          0.01695471,  0.00025196],\n",
       "        [ 0.00459809,  0.01223094, -0.00213172, ...,  0.01246831,\n",
       "         -0.00714749, -0.00868595]], dtype=float32)>,\n",
       " <tf.Variable 'dense_68/bias:0' shape=(64,) dtype=float32, numpy=\n",
       " array([0., 0., 0., 0., 0., 0., 0., 0., 0., 0., 0., 0., 0., 0., 0., 0., 0.,\n",
       "        0., 0., 0., 0., 0., 0., 0., 0., 0., 0., 0., 0., 0., 0., 0., 0., 0.,\n",
       "        0., 0., 0., 0., 0., 0., 0., 0., 0., 0., 0., 0., 0., 0., 0., 0., 0.,\n",
       "        0., 0., 0., 0., 0., 0., 0., 0., 0., 0., 0., 0., 0.], dtype=float32)>]"
      ]
     },
     "execution_count": 85,
     "metadata": {},
     "output_type": "execute_result"
    }
   ],
   "source": [
    "model.layers[0].weights"
   ]
  },
  {
   "cell_type": "code",
   "execution_count": 86,
   "metadata": {},
   "outputs": [
    {
     "data": {
      "text/plain": [
       "array([[ 0.00015817, -0.01590087,  0.00103594, ...,  0.00962818,\n",
       "         0.00624957,  0.00994726],\n",
       "       [ 0.0081879 ,  0.00756818, -0.00668142, ...,  0.01084459,\n",
       "        -0.00317478, -0.00549116],\n",
       "       [-0.00086618, -0.00287623,  0.00391693, ...,  0.00064558,\n",
       "        -0.00420471,  0.00174566],\n",
       "       ...,\n",
       "       [-0.0029006 , -0.0091218 ,  0.00804327, ..., -0.01407086,\n",
       "         0.00952832, -0.01348555],\n",
       "       [ 0.00375078,  0.00967842,  0.00098119, ..., -0.00413454,\n",
       "         0.01695471,  0.00025196],\n",
       "       [ 0.00459809,  0.01223094, -0.00213172, ...,  0.01246831,\n",
       "        -0.00714749, -0.00868595]], dtype=float32)"
      ]
     },
     "execution_count": 86,
     "metadata": {},
     "output_type": "execute_result"
    }
   ],
   "source": [
    "w = model.layers[0].weights[0].numpy()\n",
    "w"
   ]
  },
  {
   "cell_type": "code",
   "execution_count": 87,
   "metadata": {},
   "outputs": [
    {
     "data": {
      "text/plain": [
       "0.008835949"
      ]
     },
     "execution_count": 87,
     "metadata": {},
     "output_type": "execute_result"
    }
   ],
   "source": [
    "w.std()"
   ]
  },
  {
   "cell_type": "code",
   "execution_count": 88,
   "metadata": {},
   "outputs": [
    {
     "data": {
      "text/plain": [
       "array([0., 0., 0., 0., 0., 0., 0., 0., 0., 0., 0., 0., 0., 0., 0., 0., 0.,\n",
       "       0., 0., 0., 0., 0., 0., 0., 0., 0., 0., 0., 0., 0., 0., 0., 0., 0.,\n",
       "       0., 0., 0., 0., 0., 0., 0., 0., 0., 0., 0., 0., 0., 0., 0., 0., 0.,\n",
       "       0., 0., 0., 0., 0., 0., 0., 0., 0., 0., 0., 0., 0.], dtype=float32)"
      ]
     },
     "execution_count": 88,
     "metadata": {},
     "output_type": "execute_result"
    }
   ],
   "source": [
    "b = model.layers[0].weights[1].numpy()\n",
    "b"
   ]
  },
  {
   "cell_type": "code",
   "execution_count": 89,
   "metadata": {},
   "outputs": [
    {
     "name": "stdout",
     "output_type": "stream",
     "text": [
      "Epoch 1/15\n",
      "45/45 [==============================] - 1s 2ms/step - loss: 2.2863 - accuracy: 0.2380\n",
      "Epoch 2/15\n",
      "45/45 [==============================] - 0s 2ms/step - loss: 1.7517 - accuracy: 0.4161\n",
      "Epoch 3/15\n",
      "45/45 [==============================] - 0s 2ms/step - loss: 0.9778 - accuracy: 0.7370\n",
      "Epoch 4/15\n",
      "45/45 [==============================] - 0s 2ms/step - loss: 0.5673 - accuracy: 0.8511\n",
      "Epoch 5/15\n",
      "45/45 [==============================] - 0s 3ms/step - loss: 0.2943 - accuracy: 0.9311\n",
      "Epoch 6/15\n",
      "45/45 [==============================] - 0s 2ms/step - loss: 0.2475 - accuracy: 0.9297\n",
      "Epoch 7/15\n",
      "45/45 [==============================] - 0s 2ms/step - loss: 0.2000 - accuracy: 0.9464\n",
      "Epoch 8/15\n",
      "45/45 [==============================] - 0s 2ms/step - loss: 0.1435 - accuracy: 0.9666\n",
      "Epoch 9/15\n",
      "45/45 [==============================] - 0s 2ms/step - loss: 0.1208 - accuracy: 0.9701\n",
      "Epoch 10/15\n",
      "45/45 [==============================] - 0s 2ms/step - loss: 0.0874 - accuracy: 0.9812\n",
      "Epoch 11/15\n",
      "45/45 [==============================] - 0s 2ms/step - loss: 0.0773 - accuracy: 0.9819\n",
      "Epoch 12/15\n",
      "45/45 [==============================] - 0s 2ms/step - loss: 0.0569 - accuracy: 0.9896\n",
      "Epoch 13/15\n",
      "45/45 [==============================] - 0s 2ms/step - loss: 0.0476 - accuracy: 0.9903\n",
      "Epoch 14/15\n",
      "45/45 [==============================] - 0s 2ms/step - loss: 0.0503 - accuracy: 0.9854\n",
      "Epoch 15/15\n",
      "45/45 [==============================] - 0s 4ms/step - loss: 0.0397 - accuracy: 0.9937\n"
     ]
    },
    {
     "data": {
      "image/png": "[encoded data removed]",
      "text/plain": [
       "<Figure size 1200x400 with 1 Axes>"
      ]
     },
     "metadata": {},
     "output_type": "display_data"
    }
   ],
   "source": [
    "history = model.fit(X_train, y_train, epochs=15, batch_size=32)\n",
    "\n",
    "plt.figure(figsize=(12, 4))\n",
    "plt.plot(history.history['loss'], label=\"Truncated Normal init\")\n",
    "plt.legend();"
   ]
  },
  {
   "cell_type": "markdown",
   "metadata": {},
   "source": [
    "Once the model has been fit, the weights have been updated and notably the biases are no longer 0:"
   ]
  },
  {
   "cell_type": "code",
   "execution_count": 90,
   "metadata": {},
   "outputs": [
    {
     "data": {
      "text/plain": [
       "[<tf.Variable 'dense_68/kernel:0' shape=(64, 64) dtype=float32, numpy=\n",
       " array([[ 1.58170762e-04, -1.59008689e-02,  1.03594456e-03, ...,\n",
       "          9.62818228e-03,  6.24957308e-03,  9.94726177e-03],\n",
       "        [ 1.48558607e-02, -8.97481199e-03, -7.91378692e-03, ...,\n",
       "         -2.44997651e-03, -2.20365562e-02, -3.84244062e-02],\n",
       "        [ 5.29407822e-02, -1.05688818e-01, -6.10412396e-02, ...,\n",
       "         -3.29702683e-02, -1.34380504e-01,  7.71624735e-03],\n",
       "        ...,\n",
       "        [ 1.30361607e-02,  1.31950360e-02,  1.65959865e-01, ...,\n",
       "         -7.31388479e-02,  4.97520231e-02, -1.77532747e-01],\n",
       "        [ 1.64318401e-02, -1.97165515e-02,  1.23311915e-01, ...,\n",
       "         -6.49641007e-02, -5.36401849e-03, -1.02229431e-01],\n",
       "        [ 3.09903026e-02, -1.78156719e-02,  5.72701581e-02, ...,\n",
       "          6.55968711e-02,  4.79981005e-02, -6.61194623e-02]], dtype=float32)>,\n",
       " <tf.Variable 'dense_68/bias:0' shape=(64,) dtype=float32, numpy=\n",
       " array([-8.2697964e-04,  2.4438961e-03,  8.3335268e-04, -1.6196605e-03,\n",
       "        -2.3395580e-03, -7.5544801e-04, -1.2835989e-03, -8.5356965e-04,\n",
       "         9.5457380e-04, -3.3095374e-03,  1.2519612e-03,  5.8351820e-03,\n",
       "         1.3731745e-03,  4.4547237e-04,  2.6790812e-03, -8.7203138e-04,\n",
       "         5.4837898e-03,  1.5012948e-03, -4.4139603e-04, -1.5218043e-03,\n",
       "         4.4041788e-03, -7.5229583e-04,  2.2380969e-03, -5.1692984e-04,\n",
       "        -9.3962520e-04, -1.8563892e-03, -1.2417316e-03,  1.8703686e-03,\n",
       "        -4.3823200e-04,  5.0985435e-04,  5.8465763e-03, -4.4871063e-04,\n",
       "         1.1476937e-03,  3.0848943e-03,  1.1713912e-03, -1.4592391e-03,\n",
       "        -1.8447287e-03,  1.4056967e-04,  1.2382149e-03, -2.8096980e-03,\n",
       "         2.3886159e-03, -1.1944629e-03, -6.3980706e-03,  1.2620850e-03,\n",
       "         2.8745248e-03,  5.5042666e-04,  1.9121098e-03, -2.1542700e-03,\n",
       "         1.8954824e-03,  1.6502360e-03,  4.0787444e-03, -3.6237328e-03,\n",
       "        -5.6592980e-03, -5.6607062e-03, -3.4128800e-03, -3.8622748e-03,\n",
       "         5.8623991e-05,  1.7850522e-03,  8.0248713e-04, -4.8835354e-04,\n",
       "        -7.1214925e-04,  1.1615695e-03, -4.2386120e-03,  8.4152742e-04],\n",
       "       dtype=float32)>]"
      ]
     },
     "execution_count": 90,
     "metadata": {},
     "output_type": "execute_result"
    }
   ],
   "source": [
    "model.layers[0].weights"
   ]
  },
  {
   "cell_type": "markdown",
   "metadata": {},
   "source": [
    "#### Questions:\n",
    "\n",
    "- Try the following initialization schemes and see whether\n",
    "  the SGD algorithm can successfully train the network or\n",
    "  not:\n",
    "  \n",
    "  - a very small e.g. `stddev=1e-3`\n",
    "  - a larger scale e.g. `stddev=1` or `10`\n",
    "  - initialize all weights to 0 (constant initialization)\n",
    "  \n",
    "- What do you observe? Can you find an explanation for those\n",
    "  outcomes?\n",
    "\n",
    "- Are more advanced solvers such as SGD with momentum or Adam able\n",
    "  to deal better with such bad initializations?"
   ]
  },
  {
   "cell_type": "code",
   "execution_count": 91,
   "metadata": {},
   "outputs": [
    {
     "name": "stdout",
     "output_type": "stream",
     "text": [
      "\n",
      "Training model with stddev = 0.001 \n",
      "Epoch 1/15\n",
      "45/45 [==============================] - 1s 2ms/step - loss: 2.3037 - accuracy: 0.0967\n",
      "Epoch 2/15\n",
      "45/45 [==============================] - 0s 2ms/step - loss: 2.3033 - accuracy: 0.1072\n",
      "Epoch 3/15\n",
      "45/45 [==============================] - 0s 2ms/step - loss: 2.3032 - accuracy: 0.1009\n",
      "Epoch 4/15\n",
      "45/45 [==============================] - 0s 2ms/step - loss: 2.3030 - accuracy: 0.1072\n",
      "Epoch 5/15\n",
      "45/45 [==============================] - 0s 2ms/step - loss: 2.3030 - accuracy: 0.1037\n",
      "Epoch 6/15\n",
      "45/45 [==============================] - 0s 2ms/step - loss: 2.3031 - accuracy: 0.1030\n",
      "Epoch 7/15\n",
      "45/45 [==============================] - 0s 2ms/step - loss: 2.3031 - accuracy: 0.1044\n",
      "Epoch 8/15\n",
      "45/45 [==============================] - 0s 2ms/step - loss: 2.3029 - accuracy: 0.1072\n",
      "Epoch 9/15\n",
      "45/45 [==============================] - 0s 3ms/step - loss: 2.3017 - accuracy: 0.1072\n",
      "Epoch 10/15\n",
      "45/45 [==============================] - 0s 2ms/step - loss: 2.1229 - accuracy: 0.1921\n",
      "Epoch 11/15\n",
      "45/45 [==============================] - 0s 3ms/step - loss: 1.7994 - accuracy: 0.2122\n",
      "Epoch 12/15\n",
      "45/45 [==============================] - 0s 2ms/step - loss: 1.6420 - accuracy: 0.2512\n",
      "Epoch 13/15\n",
      "45/45 [==============================] - 0s 3ms/step - loss: 1.4722 - accuracy: 0.3354\n",
      "Epoch 14/15\n",
      "45/45 [==============================] - 0s 3ms/step - loss: 1.2675 - accuracy: 0.4697\n",
      "Epoch 15/15\n",
      "45/45 [==============================] - 0s 2ms/step - loss: 0.9790 - accuracy: 0.6367\n",
      "\n",
      "Training model with stddev = 1 \n",
      "Epoch 1/15\n",
      "45/45 [==============================] - 1s 2ms/step - loss: 3.9784 - accuracy: 0.2895\n",
      "Epoch 2/15\n",
      "45/45 [==============================] - 0s 2ms/step - loss: 1.8444 - accuracy: 0.5059\n",
      "Epoch 3/15\n",
      "45/45 [==============================] - 0s 2ms/step - loss: 1.1803 - accuracy: 0.6465\n",
      "Epoch 4/15\n",
      "45/45 [==============================] - 0s 2ms/step - loss: 1.0376 - accuracy: 0.6938\n",
      "Epoch 5/15\n",
      "45/45 [==============================] - 0s 2ms/step - loss: 0.9212 - accuracy: 0.7244\n",
      "Epoch 6/15\n",
      "45/45 [==============================] - 0s 2ms/step - loss: 0.8378 - accuracy: 0.7272\n",
      "Epoch 7/15\n",
      "45/45 [==============================] - 0s 2ms/step - loss: 0.7870 - accuracy: 0.7404\n",
      "Epoch 8/15\n",
      "45/45 [==============================] - 0s 2ms/step - loss: 0.7495 - accuracy: 0.7537\n",
      "Epoch 9/15\n",
      "45/45 [==============================] - 0s 3ms/step - loss: 0.6153 - accuracy: 0.8031\n",
      "Epoch 10/15\n",
      "45/45 [==============================] - 0s 2ms/step - loss: 0.6556 - accuracy: 0.7989\n",
      "Epoch 11/15\n",
      "45/45 [==============================] - 0s 2ms/step - loss: 0.6322 - accuracy: 0.7982\n",
      "Epoch 12/15\n",
      "45/45 [==============================] - 0s 2ms/step - loss: 0.5405 - accuracy: 0.8337\n",
      "Epoch 13/15\n",
      "45/45 [==============================] - 0s 2ms/step - loss: 0.5408 - accuracy: 0.8295\n",
      "Epoch 14/15\n",
      "45/45 [==============================] - 0s 2ms/step - loss: 0.4925 - accuracy: 0.8406\n",
      "Epoch 15/15\n",
      "45/45 [==============================] - 0s 3ms/step - loss: 0.4620 - accuracy: 0.8553\n",
      "\n",
      "Training model with stddev = 10 \n",
      "Epoch 1/15\n",
      "45/45 [==============================] - 1s 3ms/step - loss: 81.2265 - accuracy: 0.1489\n",
      "Epoch 2/15\n",
      "45/45 [==============================] - 0s 3ms/step - loss: 59.6097 - accuracy: 0.1273\n",
      "Epoch 3/15\n",
      "45/45 [==============================] - 0s 3ms/step - loss: 44.9652 - accuracy: 0.1698\n",
      "Epoch 4/15\n",
      "45/45 [==============================] - 0s 3ms/step - loss: 35.4844 - accuracy: 0.1747\n",
      "Epoch 5/15\n",
      "45/45 [==============================] - 0s 2ms/step - loss: 27.1833 - accuracy: 0.1921\n",
      "Epoch 6/15\n",
      "45/45 [==============================] - 0s 3ms/step - loss: 24.4969 - accuracy: 0.1949\n",
      "Epoch 7/15\n",
      "45/45 [==============================] - 0s 3ms/step - loss: 22.7151 - accuracy: 0.2324\n",
      "Epoch 8/15\n",
      "45/45 [==============================] - 0s 3ms/step - loss: 18.2156 - accuracy: 0.2763\n",
      "Epoch 9/15\n",
      "45/45 [==============================] - 0s 2ms/step - loss: 14.4088 - accuracy: 0.2811\n",
      "Epoch 10/15\n",
      "45/45 [==============================] - 0s 2ms/step - loss: 10.9358 - accuracy: 0.3083\n",
      "Epoch 11/15\n",
      "45/45 [==============================] - 0s 2ms/step - loss: 9.8497 - accuracy: 0.3215\n",
      "Epoch 12/15\n",
      "45/45 [==============================] - 0s 2ms/step - loss: 9.3400 - accuracy: 0.2839\n",
      "Epoch 13/15\n",
      "45/45 [==============================] - 0s 2ms/step - loss: 8.8036 - accuracy: 0.2742\n",
      "Epoch 14/15\n",
      "45/45 [==============================] - 0s 2ms/step - loss: 7.8258 - accuracy: 0.2832\n",
      "Epoch 15/15\n",
      "45/45 [==============================] - 0s 2ms/step - loss: 7.2782 - accuracy: 0.2944\n",
      "\n",
      "Training model with zero initialization\n",
      "Epoch 1/15\n",
      "45/45 [==============================] - 1s 2ms/step - loss: 89.6909 - accuracy: 0.1343\n",
      "Epoch 2/15\n",
      "45/45 [==============================] - 0s 2ms/step - loss: 61.9558 - accuracy: 0.1468\n",
      "Epoch 3/15\n",
      "45/45 [==============================] - 0s 2ms/step - loss: 45.3895 - accuracy: 0.1649\n",
      "Epoch 4/15\n",
      "45/45 [==============================] - 0s 2ms/step - loss: 30.4291 - accuracy: 0.1531\n",
      "Epoch 5/15\n",
      "45/45 [==============================] - 0s 2ms/step - loss: 22.8520 - accuracy: 0.2053\n",
      "Epoch 6/15\n",
      "45/45 [==============================] - 0s 2ms/step - loss: 18.2882 - accuracy: 0.2359\n",
      "Epoch 7/15\n",
      "45/45 [==============================] - 0s 2ms/step - loss: 18.5075 - accuracy: 0.2658\n",
      "Epoch 8/15\n",
      "45/45 [==============================] - 0s 2ms/step - loss: 17.9311 - accuracy: 0.2401\n",
      "Epoch 9/15\n",
      "45/45 [==============================] - 0s 2ms/step - loss: 14.6173 - accuracy: 0.2575\n",
      "Epoch 10/15\n",
      "45/45 [==============================] - 0s 2ms/step - loss: 14.8373 - accuracy: 0.2665\n",
      "Epoch 11/15\n",
      "45/45 [==============================] - 0s 2ms/step - loss: 12.4099 - accuracy: 0.2679\n",
      "Epoch 12/15\n",
      "45/45 [==============================] - 0s 2ms/step - loss: 10.7525 - accuracy: 0.2610\n",
      "Epoch 13/15\n",
      "45/45 [==============================] - 0s 2ms/step - loss: 9.9480 - accuracy: 0.2644\n",
      "Epoch 14/15\n",
      "45/45 [==============================] - 0s 2ms/step - loss: 10.1759 - accuracy: 0.2693\n",
      "Epoch 15/15\n",
      "45/45 [==============================] - 0s 2ms/step - loss: 10.5193 - accuracy: 0.2686\n"
     ]
    }
   ],
   "source": [
    "# Your code here\n",
    "\n",
    "from tensorflow.keras import initializers\n",
    "from tensorflow.keras import optimizers\n",
    "from tensorflow.keras.models import Sequential\n",
    "\n",
    "#Define dimensions \n",
    "input_dim = 64\n",
    "hidden_dim = 64\n",
    "output_dim = 10\n",
    "\n",
    "# Define Standard Deviations for the initialization schemes \n",
    "stddev_values = [1e-3, 1, 10]\n",
    "\n",
    "# Loop over the standard deviations \n",
    "for stddev in stddev_values:\n",
    "    print (f\"\\nTraining model with stddev = {stddev} \")\n",
    "\n",
    "    #Define the initializer \n",
    "    normal_init = initializers.TruncatedNormal(stddev=stddev, seed=42)\n",
    "\n",
    "    #Define the model \n",
    "    model = Sequential()\n",
    "    model.add(Dense(hidden_dim, input_dim=input_dim, activation=\"tanh\",kernel_initializer=normal_init))\n",
    "    model.add(Dense(hidden_dim, activation=\"tanh\",kernel_initializer=normal_init))\n",
    "    model.add(Dense(output_dim, activation=\"softmax\",kernel_initializer=normal_init))\n",
    "    \n",
    "    # Compile the model \n",
    "    model.compile(optimizer=optimizers.SGD(learning_rate=0.1),loss='categorical_crossentropy', metrics=['accuracy'])\n",
    "\n",
    "    # Train the model \n",
    "    history = model.fit(X_train, y_train, epochs=15, batch_size=32)\n",
    "\n",
    "# Initialize all weights to zero \n",
    "print(\"\\nTraining model with zero initialization\")\n",
    "zero_init = initializers.Zeros()\n",
    "\n",
    "\n",
    "#Define the model \n",
    "model = Sequential()\n",
    "model.add(Dense(hidden_dim, input_dim=input_dim, activation=\"tanh\",kernel_initializer=normal_init))\n",
    "model.add(Dense(hidden_dim, activation=\"tanh\",kernel_initializer=normal_init))\n",
    "model.add(Dense(output_dim, activation=\"softmax\",kernel_initializer=normal_init))\n",
    "    \n",
    "# Compile the model \n",
    "model.compile(optimizer=optimizers.SGD(learning_rate=0.1),loss='categorical_crossentropy', metrics=['accuracy'])\n",
    "\n",
    "# Train the model \n",
    "history = model.fit(X_train, y_train, epochs=15, batch_size=32)\n"
   ]
  },
  {
   "cell_type": "markdown",
   "metadata": {},
   "source": [
    "We observe that \n",
    "- with a std dev of 0.001 the performance increases are very slow \n",
    "- balanced initialization (std dev = 1) creates good learning behaviour with accuracy climbing to around 85%\n",
    "- std dev = 10 results in high initial loss and erratic training \n",
    "- zero initialization creates a symmetry problem that leads to poor learning "
   ]
  },
  {
   "cell_type": "code",
   "execution_count": 93,
   "metadata": {},
   "outputs": [
    {
     "name": "stdout",
     "output_type": "stream",
     "text": [
      "\n",
      "Training model with stddev = 0.001 \n",
      "Epoch 1/15\n",
      "45/45 [==============================] - 1s 1ms/step - loss: 2.3093 - accuracy: 0.0919\n",
      "Epoch 2/15\n",
      "45/45 [==============================] - 0s 2ms/step - loss: 2.2175 - accuracy: 0.1385\n",
      "Epoch 3/15\n",
      "45/45 [==============================] - 0s 2ms/step - loss: 1.3019 - accuracy: 0.4781\n",
      "Epoch 4/15\n",
      "45/45 [==============================] - 0s 1ms/step - loss: 1.6936 - accuracy: 0.3967\n",
      "Epoch 5/15\n",
      "45/45 [==============================] - 0s 2ms/step - loss: 1.5471 - accuracy: 0.4530\n",
      "Epoch 6/15\n",
      "45/45 [==============================] - 0s 2ms/step - loss: 1.8015 - accuracy: 0.3800\n",
      "Epoch 7/15\n",
      "45/45 [==============================] - 0s 2ms/step - loss: 1.5127 - accuracy: 0.4739\n",
      "Epoch 8/15\n",
      "45/45 [==============================] - 0s 2ms/step - loss: 1.5247 - accuracy: 0.4725\n",
      "Epoch 9/15\n",
      "45/45 [==============================] - 0s 2ms/step - loss: 1.4281 - accuracy: 0.4990\n",
      "Epoch 10/15\n",
      "45/45 [==============================] - 0s 2ms/step - loss: 1.4644 - accuracy: 0.4760\n",
      "Epoch 11/15\n",
      "45/45 [==============================] - 0s 2ms/step - loss: 1.6456 - accuracy: 0.4774\n",
      "Epoch 12/15\n",
      "45/45 [==============================] - 0s 2ms/step - loss: 1.9540 - accuracy: 0.3354\n",
      "Epoch 13/15\n",
      "45/45 [==============================] - 0s 2ms/step - loss: 2.0224 - accuracy: 0.3737\n",
      "Epoch 14/15\n",
      "45/45 [==============================] - 0s 2ms/step - loss: 1.5512 - accuracy: 0.4607\n",
      "Epoch 15/15\n",
      "45/45 [==============================] - 0s 2ms/step - loss: 2.1340 - accuracy: 0.3034\n",
      "\n",
      "Training model with stddev = 1 \n",
      "Epoch 1/15\n",
      "45/45 [==============================] - 1s 2ms/step - loss: 3.8519 - accuracy: 0.1942\n",
      "Epoch 2/15\n",
      "45/45 [==============================] - 0s 2ms/step - loss: 2.0564 - accuracy: 0.3222\n",
      "Epoch 3/15\n",
      "45/45 [==============================] - 0s 1ms/step - loss: 2.7549 - accuracy: 0.2136\n",
      "Epoch 4/15\n",
      "45/45 [==============================] - 0s 2ms/step - loss: 2.5946 - accuracy: 0.2011\n",
      "Epoch 5/15\n",
      "45/45 [==============================] - 0s 2ms/step - loss: 2.6725 - accuracy: 0.2039\n",
      "Epoch 6/15\n",
      "45/45 [==============================] - 0s 2ms/step - loss: 2.7030 - accuracy: 0.1538\n",
      "Epoch 7/15\n",
      "45/45 [==============================] - 0s 2ms/step - loss: 2.8309 - accuracy: 0.1823\n",
      "Epoch 8/15\n",
      "45/45 [==============================] - 0s 1ms/step - loss: 2.6820 - accuracy: 0.1872\n",
      "Epoch 9/15\n",
      "45/45 [==============================] - 0s 3ms/step - loss: 2.5714 - accuracy: 0.1795\n",
      "Epoch 10/15\n",
      "45/45 [==============================] - 0s 2ms/step - loss: 2.5143 - accuracy: 0.2255\n",
      "Epoch 11/15\n",
      "45/45 [==============================] - 0s 2ms/step - loss: 2.3073 - accuracy: 0.2491\n",
      "Epoch 12/15\n",
      "45/45 [==============================] - 0s 2ms/step - loss: 2.3918 - accuracy: 0.2874\n",
      "Epoch 13/15\n",
      "45/45 [==============================] - 0s 2ms/step - loss: 2.2676 - accuracy: 0.2477\n",
      "Epoch 14/15\n",
      "45/45 [==============================] - 0s 2ms/step - loss: 2.6448 - accuracy: 0.1781\n",
      "Epoch 15/15\n",
      "45/45 [==============================] - 0s 2ms/step - loss: 2.8376 - accuracy: 0.1350\n",
      "\n",
      "Training model with stddev = 10 \n",
      "Epoch 1/15\n",
      "45/45 [==============================] - 1s 1ms/step - loss: 60.4788 - accuracy: 0.1308\n",
      "Epoch 2/15\n",
      "45/45 [==============================] - 0s 2ms/step - loss: 15.0517 - accuracy: 0.1566\n",
      "Epoch 3/15\n",
      "45/45 [==============================] - 0s 2ms/step - loss: 5.5320 - accuracy: 0.1037\n",
      "Epoch 4/15\n",
      "45/45 [==============================] - 0s 1ms/step - loss: 3.5089 - accuracy: 0.0870\n",
      "Epoch 5/15\n",
      "45/45 [==============================] - 0s 2ms/step - loss: 3.2628 - accuracy: 0.1009\n",
      "Epoch 6/15\n",
      "45/45 [==============================] - 0s 2ms/step - loss: 3.2181 - accuracy: 0.1134\n",
      "Epoch 7/15\n",
      "45/45 [==============================] - 0s 1ms/step - loss: 3.0948 - accuracy: 0.0912\n",
      "Epoch 8/15\n",
      "45/45 [==============================] - 0s 2ms/step - loss: 2.8886 - accuracy: 0.0995\n",
      "Epoch 9/15\n",
      "45/45 [==============================] - 0s 1ms/step - loss: 3.0404 - accuracy: 0.1106\n",
      "Epoch 10/15\n",
      "45/45 [==============================] - 0s 2ms/step - loss: 2.9909 - accuracy: 0.0946\n",
      "Epoch 11/15\n",
      "45/45 [==============================] - 0s 2ms/step - loss: 3.0946 - accuracy: 0.0939\n",
      "Epoch 12/15\n",
      "45/45 [==============================] - 0s 2ms/step - loss: 3.0527 - accuracy: 0.0919\n",
      "Epoch 13/15\n",
      "45/45 [==============================] - 0s 1ms/step - loss: 3.1185 - accuracy: 0.0988\n",
      "Epoch 14/15\n",
      "45/45 [==============================] - 0s 2ms/step - loss: 2.9996 - accuracy: 0.1211\n",
      "Epoch 15/15\n",
      "45/45 [==============================] - 0s 2ms/step - loss: 2.9039 - accuracy: 0.1211\n",
      "\n",
      "Training model with zero initialization\n",
      "Epoch 1/15\n",
      "45/45 [==============================] - 1s 2ms/step - loss: 74.6158 - accuracy: 0.1120\n",
      "Epoch 2/15\n",
      "45/45 [==============================] - 0s 2ms/step - loss: 17.2464 - accuracy: 0.1441\n",
      "Epoch 3/15\n",
      "45/45 [==============================] - 0s 2ms/step - loss: 4.0244 - accuracy: 0.1322\n",
      "Epoch 4/15\n",
      "45/45 [==============================] - 0s 2ms/step - loss: 3.2857 - accuracy: 0.1051\n",
      "Epoch 5/15\n",
      "45/45 [==============================] - 0s 2ms/step - loss: 3.2462 - accuracy: 0.1169\n",
      "Epoch 6/15\n",
      "45/45 [==============================] - 0s 2ms/step - loss: 2.8497 - accuracy: 0.1100\n",
      "Epoch 7/15\n",
      "45/45 [==============================] - 0s 2ms/step - loss: 3.2568 - accuracy: 0.0974\n",
      "Epoch 8/15\n",
      "45/45 [==============================] - 0s 2ms/step - loss: 3.2020 - accuracy: 0.1030\n",
      "Epoch 9/15\n",
      "45/45 [==============================] - 0s 2ms/step - loss: 2.8393 - accuracy: 0.1051\n",
      "Epoch 10/15\n",
      "45/45 [==============================] - 0s 2ms/step - loss: 2.8818 - accuracy: 0.1190\n",
      "Epoch 11/15\n",
      "45/45 [==============================] - 0s 2ms/step - loss: 3.0689 - accuracy: 0.1072\n",
      "Epoch 12/15\n",
      "45/45 [==============================] - 0s 2ms/step - loss: 2.7830 - accuracy: 0.1065\n",
      "Epoch 13/15\n",
      "45/45 [==============================] - 0s 2ms/step - loss: 2.8870 - accuracy: 0.0953\n",
      "Epoch 14/15\n",
      "45/45 [==============================] - 0s 2ms/step - loss: 3.2406 - accuracy: 0.0960\n",
      "Epoch 15/15\n",
      "45/45 [==============================] - 0s 2ms/step - loss: 3.1628 - accuracy: 0.0967\n"
     ]
    }
   ],
   "source": [
    "# Trying with sgd with momentum \n",
    "\n",
    "from tensorflow.keras import initializers\n",
    "from tensorflow.keras import optimizers\n",
    "from tensorflow.keras.models import Sequential\n",
    "\n",
    "#Define dimensions \n",
    "input_dim = 64\n",
    "hidden_dim = 64\n",
    "output_dim = 10\n",
    "\n",
    "# Define Standard Deviations for the initialization schemes \n",
    "stddev_values = [1e-3, 1, 10]\n",
    "\n",
    "# Loop over the standard deviations \n",
    "for stddev in stddev_values:\n",
    "    print (f\"\\nTraining model with stddev = {stddev} \")\n",
    "\n",
    "    #Define the initializer \n",
    "    normal_init = initializers.TruncatedNormal(stddev=stddev, seed=42)\n",
    "\n",
    "    #Define the model \n",
    "    model = Sequential()\n",
    "    model.add(Dense(hidden_dim, input_dim=input_dim, activation=\"tanh\",kernel_initializer=normal_init))\n",
    "    model.add(Dense(hidden_dim, activation=\"tanh\",kernel_initializer=normal_init))\n",
    "    model.add(Dense(output_dim, activation=\"softmax\",kernel_initializer=normal_init))\n",
    "    \n",
    "    # Compile the model \n",
    "    model.compile(optimizer=optimizers.SGD(learning_rate=0.1, momentum=0.9),loss='categorical_crossentropy', metrics=['accuracy'])\n",
    "\n",
    "    # Train the model \n",
    "    history = model.fit(X_train, y_train, epochs=15, batch_size=32)\n",
    "\n",
    "# Initialize all weights to zero \n",
    "print(\"\\nTraining model with zero initialization\")\n",
    "zero_init = initializers.Zeros()\n",
    "\n",
    "\n",
    "#Define the model \n",
    "model = Sequential()\n",
    "model.add(Dense(hidden_dim, input_dim=input_dim, activation=\"tanh\",kernel_initializer=normal_init))\n",
    "model.add(Dense(hidden_dim, activation=\"tanh\",kernel_initializer=normal_init))\n",
    "model.add(Dense(output_dim, activation=\"softmax\",kernel_initializer=normal_init))\n",
    "    \n",
    "# Compile the model \n",
    "model.compile(optimizer=optimizers.SGD(learning_rate=0.1, momentum=0.9),loss='categorical_crossentropy', metrics=['accuracy'])\n",
    "\n",
    "# Train the model \n",
    "history = model.fit(X_train, y_train, epochs=15, batch_size=32)\n"
   ]
  },
  {
   "cell_type": "markdown",
   "metadata": {},
   "source": [
    "High momentum caused instability \n",
    "- Adding a momentum value of 0.9 led to instability in learning, particularly when combined with suboptimal initialization.\n",
    "- Momentum is helpful in some cases but can lead to divergence if the gradients are too large or the initial weights are poorly chosen."
   ]
  },
  {
   "cell_type": "code",
   "execution_count": 94,
   "metadata": {},
   "outputs": [
    {
     "name": "stdout",
     "output_type": "stream",
     "text": [
      "\n",
      "Training model with stddev = 0.001 \n",
      "Epoch 1/15\n",
      "45/45 [==============================] - 1s 2ms/step - loss: 2.0145 - accuracy: 0.3987\n",
      "Epoch 2/15\n",
      "45/45 [==============================] - 0s 2ms/step - loss: 1.2703 - accuracy: 0.5769\n",
      "Epoch 3/15\n",
      "45/45 [==============================] - 0s 2ms/step - loss: 0.9637 - accuracy: 0.7265\n",
      "Epoch 4/15\n",
      "45/45 [==============================] - 0s 2ms/step - loss: 0.7260 - accuracy: 0.8142\n",
      "Epoch 5/15\n",
      "45/45 [==============================] - 0s 2ms/step - loss: 0.5431 - accuracy: 0.8504\n",
      "Epoch 6/15\n",
      "45/45 [==============================] - 0s 2ms/step - loss: 0.4257 - accuracy: 0.8991\n",
      "Epoch 7/15\n",
      "45/45 [==============================] - 0s 3ms/step - loss: 0.3088 - accuracy: 0.9367\n",
      "Epoch 8/15\n",
      "45/45 [==============================] - 0s 2ms/step - loss: 0.2320 - accuracy: 0.9617\n",
      "Epoch 9/15\n",
      "45/45 [==============================] - 0s 2ms/step - loss: 0.1737 - accuracy: 0.9687\n",
      "Epoch 10/15\n",
      "45/45 [==============================] - 0s 2ms/step - loss: 0.1519 - accuracy: 0.9729\n",
      "Epoch 11/15\n",
      "45/45 [==============================] - 0s 2ms/step - loss: 0.1228 - accuracy: 0.9749\n",
      "Epoch 12/15\n",
      "45/45 [==============================] - 0s 2ms/step - loss: 0.0965 - accuracy: 0.9812\n",
      "Epoch 13/15\n",
      "45/45 [==============================] - 0s 2ms/step - loss: 0.0749 - accuracy: 0.9889\n",
      "Epoch 14/15\n",
      "45/45 [==============================] - 0s 2ms/step - loss: 0.0663 - accuracy: 0.9875\n",
      "Epoch 15/15\n",
      "45/45 [==============================] - 0s 2ms/step - loss: 0.0600 - accuracy: 0.9903\n",
      "\n",
      "Training model with stddev = 1 \n",
      "Epoch 1/15\n",
      "45/45 [==============================] - 1s 2ms/step - loss: 8.0504 - accuracy: 0.1420\n",
      "Epoch 2/15\n",
      "45/45 [==============================] - 0s 2ms/step - loss: 5.4559 - accuracy: 0.2109\n",
      "Epoch 3/15\n",
      "45/45 [==============================] - 0s 2ms/step - loss: 4.2090 - accuracy: 0.2791\n",
      "Epoch 4/15\n",
      "45/45 [==============================] - 0s 2ms/step - loss: 3.3830 - accuracy: 0.3368\n",
      "Epoch 5/15\n",
      "45/45 [==============================] - 0s 2ms/step - loss: 2.7506 - accuracy: 0.4071\n",
      "Epoch 6/15\n",
      "45/45 [==============================] - 0s 2ms/step - loss: 2.3118 - accuracy: 0.4579\n",
      "Epoch 7/15\n",
      "45/45 [==============================] - 0s 2ms/step - loss: 1.9897 - accuracy: 0.5087\n",
      "Epoch 8/15\n",
      "45/45 [==============================] - 0s 2ms/step - loss: 1.7726 - accuracy: 0.5525\n",
      "Epoch 9/15\n",
      "45/45 [==============================] - 0s 2ms/step - loss: 1.5610 - accuracy: 0.5908\n",
      "Epoch 10/15\n",
      "45/45 [==============================] - 0s 2ms/step - loss: 1.3916 - accuracy: 0.6270\n",
      "Epoch 11/15\n",
      "45/45 [==============================] - 0s 2ms/step - loss: 1.2584 - accuracy: 0.6527\n",
      "Epoch 12/15\n",
      "45/45 [==============================] - 0s 2ms/step - loss: 1.1517 - accuracy: 0.6903\n",
      "Epoch 13/15\n",
      "45/45 [==============================] - 0s 2ms/step - loss: 1.0610 - accuracy: 0.7049\n",
      "Epoch 14/15\n",
      "45/45 [==============================] - 0s 2ms/step - loss: 0.9842 - accuracy: 0.7314\n",
      "Epoch 15/15\n",
      "45/45 [==============================] - 0s 2ms/step - loss: 0.9088 - accuracy: 0.7425\n",
      "\n",
      "Training model with stddev = 10 \n",
      "Epoch 1/15\n",
      "45/45 [==============================] - 1s 2ms/step - loss: 103.0423 - accuracy: 0.1155\n",
      "Epoch 2/15\n",
      "45/45 [==============================] - 0s 2ms/step - loss: 98.8585 - accuracy: 0.1183\n",
      "Epoch 3/15\n",
      "45/45 [==============================] - 0s 2ms/step - loss: 95.3069 - accuracy: 0.1190\n",
      "Epoch 4/15\n",
      "45/45 [==============================] - 0s 2ms/step - loss: 92.4185 - accuracy: 0.1273\n",
      "Epoch 5/15\n",
      "45/45 [==============================] - 0s 2ms/step - loss: 89.9546 - accuracy: 0.1329\n",
      "Epoch 6/15\n",
      "45/45 [==============================] - 0s 2ms/step - loss: 87.5918 - accuracy: 0.1371\n",
      "Epoch 7/15\n",
      "45/45 [==============================] - 0s 2ms/step - loss: 85.4669 - accuracy: 0.1399\n",
      "Epoch 8/15\n",
      "45/45 [==============================] - 0s 2ms/step - loss: 83.4548 - accuracy: 0.1441\n",
      "Epoch 9/15\n",
      "45/45 [==============================] - 0s 2ms/step - loss: 81.4352 - accuracy: 0.1454\n",
      "Epoch 10/15\n",
      "45/45 [==============================] - 0s 2ms/step - loss: 79.4933 - accuracy: 0.1496\n",
      "Epoch 11/15\n",
      "45/45 [==============================] - 0s 2ms/step - loss: 77.6997 - accuracy: 0.1496\n",
      "Epoch 12/15\n",
      "45/45 [==============================] - 0s 2ms/step - loss: 76.0117 - accuracy: 0.1517\n",
      "Epoch 13/15\n",
      "45/45 [==============================] - 0s 2ms/step - loss: 74.4191 - accuracy: 0.1538\n",
      "Epoch 14/15\n",
      "45/45 [==============================] - 0s 2ms/step - loss: 73.1301 - accuracy: 0.1566\n",
      "Epoch 15/15\n",
      "45/45 [==============================] - 0s 2ms/step - loss: 71.7552 - accuracy: 0.1580\n",
      "\n",
      "Training model with zero initialization\n",
      "Epoch 1/15\n",
      "45/45 [==============================] - 1s 2ms/step - loss: 102.9592 - accuracy: 0.1155\n",
      "Epoch 2/15\n",
      "45/45 [==============================] - 0s 2ms/step - loss: 98.5877 - accuracy: 0.1239\n",
      "Epoch 3/15\n",
      "45/45 [==============================] - 0s 2ms/step - loss: 95.1899 - accuracy: 0.1197\n",
      "Epoch 4/15\n",
      "45/45 [==============================] - 0s 2ms/step - loss: 92.6263 - accuracy: 0.1232\n",
      "Epoch 5/15\n",
      "45/45 [==============================] - 0s 3ms/step - loss: 90.0021 - accuracy: 0.1287\n",
      "Epoch 6/15\n",
      "45/45 [==============================] - 0s 3ms/step - loss: 87.7779 - accuracy: 0.1364\n",
      "Epoch 7/15\n",
      "45/45 [==============================] - 0s 3ms/step - loss: 85.2985 - accuracy: 0.1392\n",
      "Epoch 8/15\n",
      "45/45 [==============================] - 0s 3ms/step - loss: 83.3412 - accuracy: 0.1385\n",
      "Epoch 9/15\n",
      "45/45 [==============================] - 0s 2ms/step - loss: 81.2792 - accuracy: 0.1441\n",
      "Epoch 10/15\n",
      "45/45 [==============================] - 0s 2ms/step - loss: 79.4001 - accuracy: 0.1538\n",
      "Epoch 11/15\n",
      "45/45 [==============================] - 0s 2ms/step - loss: 77.7325 - accuracy: 0.1531\n",
      "Epoch 12/15\n",
      "45/45 [==============================] - 0s 2ms/step - loss: 76.0600 - accuracy: 0.1608\n",
      "Epoch 13/15\n",
      "45/45 [==============================] - 0s 2ms/step - loss: 74.6987 - accuracy: 0.1594\n",
      "Epoch 14/15\n",
      "45/45 [==============================] - 0s 2ms/step - loss: 73.0765 - accuracy: 0.1580\n",
      "Epoch 15/15\n",
      "45/45 [==============================] - 0s 2ms/step - loss: 71.9683 - accuracy: 0.1566\n"
     ]
    }
   ],
   "source": [
    "# Trying with adam optimizer\n",
    "\n",
    "from tensorflow.keras import initializers\n",
    "from tensorflow.keras import optimizers\n",
    "from tensorflow.keras.models import Sequential\n",
    "\n",
    "#Define dimensions \n",
    "input_dim = 64\n",
    "hidden_dim = 64\n",
    "output_dim = 10\n",
    "\n",
    "# Define Standard Deviations for the initialization schemes \n",
    "stddev_values = [1e-3, 1, 10]\n",
    "\n",
    "# Loop over the standard deviations \n",
    "for stddev in stddev_values:\n",
    "    print (f\"\\nTraining model with stddev = {stddev} \")\n",
    "\n",
    "    #Define the initializer \n",
    "    normal_init = initializers.TruncatedNormal(stddev=stddev, seed=42)\n",
    "\n",
    "    #Define the model \n",
    "    model = Sequential()\n",
    "    model.add(Dense(hidden_dim, input_dim=input_dim, activation=\"tanh\",kernel_initializer=normal_init))\n",
    "    model.add(Dense(hidden_dim, activation=\"tanh\",kernel_initializer=normal_init))\n",
    "    model.add(Dense(output_dim, activation=\"softmax\",kernel_initializer=normal_init))\n",
    "    \n",
    "    # Compile the model \n",
    "    model.compile(optimizer='adam',loss='categorical_crossentropy', metrics=['accuracy'])\n",
    "\n",
    "    # Train the model \n",
    "    history = model.fit(X_train, y_train, epochs=15, batch_size=32)\n",
    "\n",
    "# Initialize all weights to zero \n",
    "print(\"\\nTraining model with zero initialization\")\n",
    "zero_init = initializers.Zeros()\n",
    "\n",
    "\n",
    "#Define the model \n",
    "model = Sequential()\n",
    "model.add(Dense(hidden_dim, input_dim=input_dim, activation=\"tanh\",kernel_initializer=normal_init))\n",
    "model.add(Dense(hidden_dim, activation=\"tanh\",kernel_initializer=normal_init))\n",
    "model.add(Dense(output_dim, activation=\"softmax\",kernel_initializer=normal_init))\n",
    "    \n",
    "# Compile the model \n",
    "model.compile(optimizer='adam',loss='categorical_crossentropy', metrics=['accuracy'])\n",
    "\n",
    "# Train the model \n",
    "history = model.fit(X_train, y_train, epochs=15, batch_size=32)"
   ]
  },
  {
   "cell_type": "markdown",
   "metadata": {},
   "source": [
    "Adam Optimizer showed significant improvements:\n",
    "- With small standard deviation (stddev = 0.001), Adam led to fast convergence and high accuracy (99.03%).\n",
    "- With standard deviation of 1, Adam provided a significant boost in performance, achieving an accuracy of 74.25%.\n",
    "- For large standard deviation (stddev = 10), Adam showed only a slight improvement, as high initialization variance caused instability.\n",
    "- With zero initialization, Adam performed slightly better, but the accuracy remained low, reflecting the symmetry problem that prevented diverse earning across neurons."
   ]
  }
 ],
 "metadata": {
  "file_extension": ".py",
  "kernelspec": {
   "display_name": "dsi_participant",
   "language": "python",
   "name": "python3"
  },
  "language_info": {
   "codemirror_mode": {
    "name": "ipython",
    "version": 3
   },
   "file_extension": ".py",
   "mimetype": "text/x-python",
   "name": "python",
   "nbconvert_exporter": "python",
   "pygments_lexer": "ipython3",
   "version": "3.9.15"
  },
  "mimetype": "text/x-python",
  "name": "python",
  "npconvert_exporter": "python",
  "pygments_lexer": "ipython3",
  "toc": {
   "base_numbering": 1,
   "nav_menu": {},
   "number_sections": true,
   "sideBar": true,
   "skip_h1_title": false,
   "title_cell": "Table of Contents",
   "title_sidebar": "Contents",
   "toc_cell": false,
   "toc_position": {},
   "toc_section_display": true,
   "toc_window_display": false
  },
  "version": 3
 },
 "nbformat": 4,
 "nbformat_minor": 4
}
